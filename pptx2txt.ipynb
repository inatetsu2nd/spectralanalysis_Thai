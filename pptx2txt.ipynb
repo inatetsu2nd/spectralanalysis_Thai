{
 "cells": [
  {
   "cell_type": "markdown",
   "id": "9c394f9c",
   "metadata": {},
   "source": [
    "\n",
    "# 📊 เครื่องมือสรุปและแปลสไลด์ PowerPoint\n",
    "\n",
    "สคริปต์นี้ใช้สำหรับดึงข้อความจากไฟล์ PowerPoint (.pptx) แล้วสรุปเนื้อหาของแต่ละสไลด์เป็นประโยคภาษาอังกฤษสั้น ๆ  \n",
    "จากนั้นแปลเป็นภาษาไทยโดยอัตโนมัติ\n",
    "\n",
    "## 🔧 ไลบรารีที่ใช้หลัก ๆ\n",
    "- `python-pptx`: ใช้ในการดึงข้อความจากสไลด์ PowerPoint\n",
    "- `openai`: ใช้ GPT ในการสรุปเนื้อหาเป็นภาษาอังกฤษ\n",
    "- `google.cloud.translate`: ใช้ Google Translate API แปลเป็นภาษาไทย\n",
    "- `dotenv`: จัดการตัวแปรสภาพแวดล้อม เช่น API Key\n",
    "- `tqdm`: แสดงแถบสถานะระหว่างการทำงาน\n",
    "\n",
    "## 📌 ลำดับการทำงาน\n",
    "1. อ่านไฟล์ .pptx และดึงข้อความจากแต่ละสไลด์\n",
    "2. ใช้ GPT สรุปข้อความของแต่ละสไลด์ให้เป็นประโยคเดียวในภาษาอังกฤษ\n",
    "3. แปลประโยคที่ได้เป็นภาษาไทยด้วย Google Translate API\n",
    "4. สามารถเขียนผลลัพธ์ลงไฟล์ข้อความได้"
   ]
  },
  {
   "cell_type": "code",
   "execution_count": 1,
   "id": "0e9634f3",
   "metadata": {},
   "outputs": [],
   "source": [
    "import os, time\n",
    "from pathlib import Path\n",
    "from pptx import Presentation\n",
    "from tqdm import tqdm\n",
    "import openai\n",
    "from google.cloud import translate_v2 as translate\n",
    "from dotenv import load_dotenv\n",
    "\n",
    "# 📤 .pptx ไฟล์จาก PowerPoint แล้วดึงข้อความจากแต่ละสไลด์\n",
    "def extract_slide_text(pptx_path):\n",
    "    from pptx import Presentation\n",
    "\n",
    "    prs = Presentation(pptx_path)\n",
    "    pages = []\n",
    "    for i, slide in enumerate(prs.slides, start=1):\n",
    "        items = []\n",
    "        for shape in slide.shapes:\n",
    "            # ตรวจสอบว่าเป็นกล่องข้อความหรือไม่\n",
    "            if not getattr(shape, \"has_text_frame\", False):\n",
    "                continue\n",
    "            text = shape.text.strip().replace(\"\\n\", \" \")\n",
    "            if text:\n",
    "                items.append((shape.top, shape.left, text))\n",
    "        items.sort()\n",
    "        combined = \" \".join([t[2] for t in items]) + \"\\n\\n\"  # รวมข้อความในสไลด์\n",
    "        pages.append((i, combined))\n",
    "    return pages\n",
    "\n",
    "# 📝 เขียนข้อความที่ดึงมาแล้วลงในไฟล์ .txt\n",
    "def write_txt(lines, path):\n",
    "    with open(path, \"w\", encoding=\"utf-8\") as f:\n",
    "        for i, text in lines:\n",
    "            f.write(f\"{i}-[{text}]\\n\")\n",
    "\n",
    "# 🤖 สรุปข้อความจากแต่ละสไลด์โดยใช้ GPT (ภาษาอังกฤษ)\n",
    "def summarise_with_gpt(lines, model=\"gpt-3.5-turbo\"):\n",
    "    openai.api_key = os.getenv(\"OPENAI_API_KEY\")\n",
    "    results = []\n",
    "    for i, text in tqdm(lines):  # แสดง progress bar\n",
    "        prompt = (\n",
    "            \"You are helping summarize a presentation designed for Thai researchers.\\n\"\n",
    "            \"The topic is about near-infrared spectral analysis (chemometrics).\\n\"\n",
    "            \"Please summarize the following slide content into one concise sentence in English, \"\n",
    "            \"focusing on the key point this slide is trying to communicate:\\n\\n\"\n",
    "            f\"{text}\"\n",
    "        )\n",
    "        res = openai.ChatCompletion.create(\n",
    "            model=model,\n",
    "            messages=[\n",
    "                {\"role\": \"system\", \"content\": \"You are a helpful assistant skilled in summarizing scientific slides.\"},\n",
    "                {\"role\": \"user\", \"content\": prompt}\n",
    "            ],\n",
    "            temperature=0.3,\n",
    "            max_tokens=1000\n",
    "        )\n",
    "        summary = res.choices[0].message.content.strip()\n",
    "        results.append((i, summary))\n",
    "        time.sleep(1)  # รอ 1 วินาทีเพื่อหลีกเลี่ยง rate limit\n",
    "    return results\n",
    "\n",
    "# 🌐 แปลข้อความภาษาอังกฤษที่สรุปไว้ให้เป็นภาษาไทยโดยใช้ Google Translate\n",
    "def translate_to_thai(lines):\n",
    "    client = translate.Client()\n",
    "    results = []\n",
    "    for i, text in tqdm(lines):\n",
    "        trans = client.translate(text, target_language=\"th\")\n",
    "        results.append((i, trans[\"translatedText\"]))\n",
    "    return results"
   ]
  },
  {
   "cell_type": "markdown",
   "id": "8d9f50bd",
   "metadata": {},
   "source": [
    "\n",
    "## 🔐 การตั้งค่าคีย์ API และข้อมูลประจำตัว\n",
    "\n",
    "ก่อนใช้งาน Google Translate API และ OpenAI GPT จำเป็นต้องตั้งค่าคีย์ API และไฟล์ข้อมูลประจำตัวให้เรียบร้อย\n",
    "\n",
    "- `GOOGLE_APPLICATION_CREDENTIALS`: ใช้สำหรับกำหนดไฟล์ JSON ของบัญชีบริการ (Service Account) ของ Google Cloud\n",
    "- `load_dotenv()`: โหลดค่าตัวแปรจากไฟล์ `.env` เช่น `OPENAI_API_KEY`\n",
    "\n",
    "กรุณาใส่ path ของไฟล์ JSON และสร้างไฟล์ `.env` พร้อมกำหนดค่า API ที่จำเป็น\n",
    "\"\"\"\n"
   ]
  },
  {
   "cell_type": "code",
   "execution_count": 2,
   "id": "f7945cf9",
   "metadata": {},
   "outputs": [
    {
     "data": {
      "text/plain": [
       "True"
      ]
     },
     "execution_count": 2,
     "metadata": {},
     "output_type": "execute_result"
    }
   ],
   "source": [
    "# 🔑 ตั้งค่าตัวแปรสำหรับ Google Translate API โดยระบุ path ของไฟล์ Service Account JSON\n",
    "os.environ[\"GOOGLE_APPLICATION_CREDENTIALS\"] = \"insert json file here\"\n",
    "\n",
    "# 🔐 โหลดค่าตัวแปรสภาพแวดล้อมจากไฟล์ .env (ใช้สำหรับ API Key ของ OpenAI เป็นต้น)\n",
    "load_dotenv()"
   ]
  },
  {
   "cell_type": "markdown",
   "id": "f223e621",
   "metadata": {},
   "source": [
    "## 📁 การตั้งค่าไฟล์อินพุตและเอาต์พุต\n",
    "\n",
    "กำหนด path ของไฟล์ต่าง ๆ ที่ใช้ในกระบวนการทำงาน:\n",
    "\n",
    "- `pptx_path`: ไฟล์ PowerPoint (.pptx) ต้นฉบับที่ต้องการประมวลผล\n",
    "- `text_out`: ไฟล์ .txt สำหรับบันทึกข้อความที่ดึงมาจากแต่ละสไลด์\n",
    "- `gpt_out`: ไฟล์ .txt สำหรับบันทึกสรุปภาษาอังกฤษจาก GPT\n",
    "- `thai_out`: ไฟล์ .txt สำหรับบันทึกผลลัพธ์ที่แปลเป็นภาษาไทย"
   ]
  },
  {
   "cell_type": "code",
   "execution_count": 3,
   "id": "4d807fde",
   "metadata": {},
   "outputs": [],
   "source": [
    "# 📥 กำหนด path ของไฟล์ PowerPoint ที่ต้องการประมวลผล (ตัวอย่าง: \"example.pptx\")\n",
    "pptx_path = Path(\"2025_presen_Thai.pptx\")\n",
    "\n",
    "# 📝 ไฟล์เอาต์พุตสำหรับบันทึกข้อความที่ดึงมาจากสไลด์\n",
    "text_out = Path(\"word_extract.txt\")\n",
    "\n",
    "# 📄 ไฟล์เอาต์พุตสำหรับบันทึกข้อความที่สรุปเป็นภาษาอังกฤษโดย GPT\n",
    "gpt_out = Path(\"word_extract_gpt.txt\")\n",
    "\n",
    "# 🌐 ไฟล์เอาต์พุตสำหรับบันทึกข้อความที่แปลเป็นภาษาไทย\n",
    "thai_out = Path(\"word_extract_gpt_th.txt\")"
   ]
  },
  {
   "cell_type": "markdown",
   "id": "74cc03da",
   "metadata": {},
   "source": [
    "## 🧾 การดึงข้อความจากสไลด์และบันทึกลงไฟล์\n",
    "\n",
    "ขั้นตอนนี้จะ:\n",
    "\n",
    "1. ดึงข้อความทั้งหมดจากสไลด์ในไฟล์ PowerPoint\n",
    "2. บันทึกข้อความลงในไฟล์ `.txt` เพื่อใช้ในขั้นตอนถัดไป"
   ]
  },
  {
   "cell_type": "code",
   "execution_count": 4,
   "id": "85b4d774",
   "metadata": {},
   "outputs": [
    {
     "name": "stdout",
     "output_type": "stream",
     "text": [
      "word_extract.txt saved\n"
     ]
    }
   ],
   "source": [
    "# 📤 ดึงข้อความทั้งหมดจากไฟล์ PowerPoint ที่กำหนดไว้\n",
    "pages = extract_slide_text(pptx_path)\n",
    "\n",
    "# 💾 เขียนข้อความที่ได้จากแต่ละสไลด์ลงในไฟล์ .txt\n",
    "write_txt(pages, text_out)\n",
    "\n",
    "# ✅ แสดงข้อความยืนยันว่าบันทึกไฟล์สำเร็จ\n",
    "print(f\"{text_out} saved\")"
   ]
  },
  {
   "cell_type": "markdown",
   "id": "fd2f09c7",
   "metadata": {},
   "source": [
    "## 🧠 การสรุปเนื้อหาด้วย GPT\n",
    "\n",
    "ขั้นตอนนี้จะใช้ GPT (OpenAI) เพื่อสรุปเนื้อหาจากแต่ละสไลด์  \n",
    "ให้เป็นประโยคภาษาอังกฤษสั้น ๆ ที่สื่อสารใจความสำคัญของสไลด์นั้น\n",
    "\n",
    "ผลลัพธ์จะถูกบันทึกลงในไฟล์ `.txt` เพื่อใช้งานต่อในขั้นตอนการแปล"
   ]
  },
  {
   "cell_type": "code",
   "execution_count": 5,
   "id": "c349307d",
   "metadata": {},
   "outputs": [
    {
     "name": "stderr",
     "output_type": "stream",
     "text": [
      "100%|████████████████████████████████████████████████████████████████████████████████| 200/200 [06:23<00:00,  1.92s/it]"
     ]
    },
    {
     "name": "stdout",
     "output_type": "stream",
     "text": [
      "word_extract_gpt.txt saved\n"
     ]
    },
    {
     "name": "stderr",
     "output_type": "stream",
     "text": [
      "\n"
     ]
    }
   ],
   "source": [
    "# 🤖 ใช้ GPT สรุปข้อความของแต่ละสไลด์ให้อยู่ในรูปประโยคภาษาอังกฤษสั้น ๆ\n",
    "summarised = summarise_with_gpt(pages)\n",
    "\n",
    "# 💾 บันทึกผลลัพธ์ที่สรุปแล้วลงในไฟล์ .txt\n",
    "write_txt(summarised, gpt_out)\n",
    "\n",
    "# ✅ แสดงข้อความยืนยันว่าบันทึกไฟล์สำเร็จ\n",
    "print(f\"{gpt_out} saved\")"
   ]
  },
  {
   "cell_type": "markdown",
   "id": "84ac2c5e",
   "metadata": {},
   "source": [
    "## 🌐 การแปลข้อความเป็นภาษาไทย\n",
    "\n",
    "ในขั้นตอนนี้ ข้อความที่ถูกสรุปเป็นภาษาอังกฤษจะถูกส่งไปยัง Google Translate API  \n",
    "เพื่อแปลเป็นภาษาไทย และบันทึกผลลัพธ์ลงในไฟล์ `.txt`\n",
    "\"\"\"\n"
   ]
  },
  {
   "cell_type": "code",
   "execution_count": null,
   "id": "7c4b657b",
   "metadata": {},
   "outputs": [],
   "source": [
    "# 🌐 แปลข้อความภาษาอังกฤษที่สรุปไว้ให้เป็นภาษาไทยโดยใช้ Google Translate API\n",
    "thai = translate_to_thai(summarised)\n",
    "\n",
    "# 💾 บันทึกข้อความที่แปลแล้วลงในไฟล์ .txt\n",
    "write_txt(thai, thai_out)\n",
    "\n",
    "# ✅ แสดงข้อความยืนยันว่าบันทึกไฟล์สำเร็จ\n",
    "print(f\"{thai_out} saved\")"
   ]
  }
 ],
 "metadata": {
  "kernelspec": {
   "display_name": "Python 3 (ipykernel)",
   "language": "python",
   "name": "python3"
  },
  "language_info": {
   "codemirror_mode": {
    "name": "ipython",
    "version": 3
   },
   "file_extension": ".py",
   "mimetype": "text/x-python",
   "name": "python",
   "nbconvert_exporter": "python",
   "pygments_lexer": "ipython3",
   "version": "3.11.7"
  }
 },
 "nbformat": 4,
 "nbformat_minor": 5
}
