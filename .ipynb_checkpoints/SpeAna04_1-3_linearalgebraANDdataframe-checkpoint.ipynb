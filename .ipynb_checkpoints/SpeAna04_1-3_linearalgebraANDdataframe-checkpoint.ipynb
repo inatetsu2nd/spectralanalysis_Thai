{
 "cells": [
  {
   "cell_type": "markdown",
   "id": "21ea0437",
   "metadata": {},
   "source": [
    "# <span style=\"color:RoyalBlue; \">4.1 Basic Matrix Operations / การดำเนินการพื้นฐานของเมทริกซ์</span>\n",
    "## <span style=\"color: DeepPink; \">4.1.3 Basic Matrix Operations Using Python / การดำเนินการพื้นฐานของเมทริกซ์โดยใช้ Python</span>\n",
    "###### <span style=\"color: gray \">Code 4.1 Basic Matrix Operations / โค้ด 4.1 การดำเนินการพื้นฐานของเมทริกซ์</span>\n"
   ]
  },
  {
   "cell_type": "code",
   "execution_count": 1,
   "id": "b6c1b4cc",
   "metadata": {
    "scrolled": true
   },
   "outputs": [
    {
     "name": "stdout",
     "output_type": "stream",
     "text": [
      "Matrix A is\n",
      " [[ 1  2  3]\n",
      " [ 4  2  3]\n",
      " [12  3  1]] \n",
      "\n",
      "Matrix B is\n",
      " [[1 2 1]\n",
      " [2 3 1]\n",
      " [5 4 1]] \n",
      "\n",
      "Transpose of A is\n",
      " [[ 1  4 12]\n",
      " [ 2  2  3]\n",
      " [ 3  3  1]] \n",
      "and\n",
      " [[ 1  4 12]\n",
      " [ 2  2  3]\n",
      " [ 3  3  1]] \n",
      "\n",
      "A + B is\n",
      " [[ 2  4  4]\n",
      " [ 6  5  4]\n",
      " [17  7  2]] \n",
      "\n",
      "A · B is\n",
      " [[20 20  6]\n",
      " [23 26  9]\n",
      " [23 37 16]] \n",
      "\n",
      "Identity matrix is\n",
      " [[1. 0. 0.]\n",
      " [0. 1. 0.]\n",
      " [0. 0. 1.]] \n",
      "\n",
      "Inverse of A is\n",
      " [[-3.33333333e-01  3.33333333e-01  3.70074342e-17]\n",
      " [ 1.52380952e+00 -1.66666667e+00  4.28571429e-01]\n",
      " [-5.71428571e-01  1.00000000e+00 -2.85714286e-01]] \n",
      "\n",
      "A · inv(A) is\n",
      " [[ 1.  0. -0.]\n",
      " [ 0.  1. -0.]\n",
      " [ 0. -0.  1.]] \n",
      "\n"
     ]
    }
   ],
   "source": [
    "import numpy as np\n",
    "\n",
    "# ① 3x3 matrices A and B / เมทริกซ์ขนาด 3x3 A และ B\n",
    "A = np.array([[1, 2, 3], [4, 2, 3], [12, 3, 1]])\n",
    "B = np.array([[1, 2, 1], [2, 3, 1], [5, 4, 1]])\n",
    "print(\"Matrix A is\\n\", A, '\\n')\n",
    "print(\"Matrix B is\\n\", B, '\\n')\n",
    "\n",
    "# ② Transpose of matrix / การทรานสโพสของเมทริกซ์\n",
    "transA1 = A.T\n",
    "transA2 = np.transpose(A)\n",
    "print(\"Transpose of A is\\n\", transA1, '\\nand\\n', transA2, \"\\n\")\n",
    "\n",
    "# ③ Addition of matrices / การบวกเมทริกซ์\n",
    "sum_of_matrices = A + B\n",
    "print(\"A + B is\\n\", sum_of_matrices, '\\n')\n",
    "\n",
    "# ④ Multiplication of matrices / การคูณเมทริกซ์\n",
    "product_of_matrices = np.dot(A, B)\n",
    "print(\"A · B is\\n\", product_of_matrices, '\\n')\n",
    "\n",
    "# ⑤ Identity matrix I / เมทริกซ์เอกลักษณ์ I\n",
    "identity_matrix = np.eye(3)\n",
    "print(\"Identity matrix is\\n\", identity_matrix, '\\n')\n",
    "\n",
    "# ⑥ Inverse matrix of A / เมทริกซ์ผกผันของ A\n",
    "inverse_of_A = np.linalg.inv(A)\n",
    "print(\"Inverse of A is\\n\", inverse_of_A, '\\n')\n",
    "\n",
    "# ⑦ Product of A and its inverse / ผลคูณของ A กับเมทริกซ์ผกผัน\n",
    "product_of_A_and_inverse = np.dot(A, inverse_of_A)\n",
    "print(\"A · inv(A) is\\n\", np.around(product_of_A_and_inverse, decimals=0), '\\n')\n"
   ]
  },
  {
   "cell_type": "markdown",
   "id": "b1203fb8",
   "metadata": {},
   "source": [
    "# <span style=\"color:RoyalBlue; \">4.2 Solving Simultaneous Equations Using Inverse Matrix / การแก้ระบบสมการเชิงเส้นด้วยเมทริกซ์ผกผัน</span>\n",
    "## <span style=\"color: DeepPink; \">4.2.2 Solving Simultaneous Equations Using Matrices in Python / การแก้ระบบสมการเชิงเส้นด้วยเมทริกซ์ใน Python</span>\n",
    "###### <span style=\"color: gray \">Code 4.2 Solving Simultaneous Equations Using Inverse Matrix / โค้ด 4.2 การแก้ระบบสมการเชิงเส้นด้วยเมทริกซ์ผกผัน</span>\n"
   ]
  },
  {
   "cell_type": "code",
   "execution_count": 2,
   "id": "97b6875f",
   "metadata": {
    "scrolled": true
   },
   "outputs": [
    {
     "name": "stdout",
     "output_type": "stream",
     "text": [
      "The solution is\n",
      " [[ 2.14285714]\n",
      " [-3.71428571]\n",
      " [ 2.        ]] \n",
      "\n"
     ]
    }
   ],
   "source": [
    "import numpy as np\n",
    "\n",
    "A = np.array([[3, 2, 1], [4, 5, 6], [3, 2, 2]])\n",
    "B = np.array([[1], [2], [3]])\n",
    "\n",
    "inverse_of_A = np.linalg.inv(A)\n",
    "print(\"The solution is\\n\", np.dot(inverse_of_A, B), \"\\n\")\n"
   ]
  },
  {
   "cell_type": "markdown",
   "id": "0df71ffc",
   "metadata": {},
   "source": [
    "## <span style=\"color: DeepPink; \">4.2.3 Simultaneous Equations Without an Inverse Matrix / ระบบสมการเชิงเส้นที่ไม่มีเมทริกซ์ผกผัน</span>\n",
    "###### <span style=\"color: gray \">Code 4.3 Simultaneous Equations Without an Inverse Matrix / โค้ด 4.3 ระบบสมการเชิงเส้นที่ไม่มีเมทริกซ์ผกผัน</span>\n"
   ]
  },
  {
   "cell_type": "code",
   "execution_count": 15,
   "id": "00501fb9",
   "metadata": {
    "scrolled": true
   },
   "outputs": [
    {
     "name": "stdout",
     "output_type": "stream",
     "text": [
      "rank： 2\n"
     ]
    },
    {
     "ename": "LinAlgError",
     "evalue": "Singular matrix",
     "output_type": "error",
     "traceback": [
      "\u001b[1;31m---------------------------------------------------------------------------\u001b[0m",
      "\u001b[1;31mLinAlgError\u001b[0m                               Traceback (most recent call last)",
      "Cell \u001b[1;32mIn[15], line 5\u001b[0m\n\u001b[0;32m      3\u001b[0m B \u001b[38;5;241m=\u001b[39mnp\u001b[38;5;241m.\u001b[39marray([[\u001b[38;5;241m1\u001b[39m], [\u001b[38;5;241m2\u001b[39m], [\u001b[38;5;241m3\u001b[39m]])\n\u001b[0;32m      4\u001b[0m \u001b[38;5;28mprint\u001b[39m(\u001b[38;5;124m\"\u001b[39m\u001b[38;5;124mrank：\u001b[39m\u001b[38;5;124m\"\u001b[39m,np\u001b[38;5;241m.\u001b[39mlinalg\u001b[38;5;241m.\u001b[39mmatrix_rank(A))\n\u001b[1;32m----> 5\u001b[0m inverse_of_A \u001b[38;5;241m=\u001b[39m np\u001b[38;5;241m.\u001b[39mlinalg\u001b[38;5;241m.\u001b[39minv(A)\n",
      "File \u001b[1;32m~\\anaconda3\\Lib\\site-packages\\numpy\\linalg\\linalg.py:561\u001b[0m, in \u001b[0;36minv\u001b[1;34m(a)\u001b[0m\n\u001b[0;32m    559\u001b[0m signature \u001b[38;5;241m=\u001b[39m \u001b[38;5;124m'\u001b[39m\u001b[38;5;124mD->D\u001b[39m\u001b[38;5;124m'\u001b[39m \u001b[38;5;28;01mif\u001b[39;00m isComplexType(t) \u001b[38;5;28;01melse\u001b[39;00m \u001b[38;5;124m'\u001b[39m\u001b[38;5;124md->d\u001b[39m\u001b[38;5;124m'\u001b[39m\n\u001b[0;32m    560\u001b[0m extobj \u001b[38;5;241m=\u001b[39m get_linalg_error_extobj(_raise_linalgerror_singular)\n\u001b[1;32m--> 561\u001b[0m ainv \u001b[38;5;241m=\u001b[39m _umath_linalg\u001b[38;5;241m.\u001b[39minv(a, signature\u001b[38;5;241m=\u001b[39msignature, extobj\u001b[38;5;241m=\u001b[39mextobj)\n\u001b[0;32m    562\u001b[0m \u001b[38;5;28;01mreturn\u001b[39;00m wrap(ainv\u001b[38;5;241m.\u001b[39mastype(result_t, copy\u001b[38;5;241m=\u001b[39m\u001b[38;5;28;01mFalse\u001b[39;00m))\n",
      "File \u001b[1;32m~\\anaconda3\\Lib\\site-packages\\numpy\\linalg\\linalg.py:112\u001b[0m, in \u001b[0;36m_raise_linalgerror_singular\u001b[1;34m(err, flag)\u001b[0m\n\u001b[0;32m    111\u001b[0m \u001b[38;5;28;01mdef\u001b[39;00m \u001b[38;5;21m_raise_linalgerror_singular\u001b[39m(err, flag):\n\u001b[1;32m--> 112\u001b[0m     \u001b[38;5;28;01mraise\u001b[39;00m LinAlgError(\u001b[38;5;124m\"\u001b[39m\u001b[38;5;124mSingular matrix\u001b[39m\u001b[38;5;124m\"\u001b[39m)\n",
      "\u001b[1;31mLinAlgError\u001b[0m: Singular matrix"
     ]
    }
   ],
   "source": [
    "import numpy as np\n",
    "A = np.array([[1, 1, 1], [2, 2, 2], [3, 2, 2]])\n",
    "B =np.array([[1], [2], [3]])\n",
    "print(\"rank：\",np.linalg.matrix_rank(A))\n",
    "inverse_of_A = np.linalg.inv(A)"
   ]
  },
  {
   "cell_type": "markdown",
   "id": "b65c0262",
   "metadata": {},
   "source": [
    "## <span style=\"color: DeepPink; \">4.2.5 Simple Linear Regression Using Python (Least Squares Method) / การวิเคราะห์การถดถอยเชิงเส้นอย่างง่ายด้วย Python (วิธีการหาค่าที่สี่เหลี่ยมจัตุรัสน้อยที่สุด)</span>\n",
    "###### <span style=\"color: gray \">Code 4.4 Calculation of Least Squares Method / โค้ด 4.4 การคำนวณด้วยวิธีสี่เหลี่ยมจัตุรัสน้อยที่สุด</span>\n"
   ]
  },
  {
   "cell_type": "code",
   "execution_count": 21,
   "id": "32223943",
   "metadata": {
    "scrolled": true
   },
   "outputs": [
    {
     "name": "stdout",
     "output_type": "stream",
     "text": [
      "Regression slope: ① 0.21, ② 0.21, ③ 0.21\n",
      "Regression intercept: ① -0.03, ② -0.03, ③ -0.03\n"
     ]
    },
    {
     "data": {
      "image/png": "[encoded data removed]",
      "text/plain": [
       "<Figure size 640x480 with 1 Axes>"
      ]
     },
     "metadata": {},
     "output_type": "display_data"
    }
   ],
   "source": [
    "import numpy as np\n",
    "import matplotlib.pyplot as plt\n",
    "from sklearn.linear_model import LinearRegression\n",
    "\n",
    "# Data setup / การตั้งค่าข้อมูล\n",
    "X = np.array([5, 6, 7, 8, 9]).reshape(-1, 1)  # Sugar content / ปริมาณน้ำตาล\n",
    "y = np.array([1.2, 1, 1.5, 1.5, 2]).reshape(-1, 1)  # Acidity / ความเป็นกรด\n",
    "\n",
    "# ①-1. Using function (scikit-learn's LinearRegression) / วิธีที่ 1-1: ใช้ฟังก์ชัน LinearRegression จาก scikit-learn\n",
    "model = LinearRegression()\n",
    "model.fit(X, y)\n",
    "intercept_sklearn = model.intercept_\n",
    "slope_sklearn = model.coef_[0]\n",
    "\n",
    "# ①-2. Calculate from definition derived by partial differentiation / วิธีที่ 1-2: คำนวณจากนิยามที่ได้จากอนุพันธ์บางส่วน\n",
    "X_mean = np.mean(X)\n",
    "y_mean = np.mean(y)\n",
    "slope_manual = np.sum((X - X_mean) * (y - y_mean)) / np.sum((X - X_mean)**2)\n",
    "intercept_manual = y_mean - slope_manual * X_mean\n",
    "\n",
    "# ①-3. Calculate using inverse matrix / วิธีที่ 1-3: คำนวณโดยใช้เมทริกซ์ผกผัน\n",
    "X_b = np.c_[X, np.ones((X.shape[0], 1))]  # Add bias term to X / เพิ่มเทอมไบแอสใน X\n",
    "theta_best = np.linalg.inv(X_b.T.dot(X_b)).dot(X_b.T).dot(y)\n",
    "intercept_inverse = theta_best[1]\n",
    "slope_inverse = theta_best[0]\n",
    "\n",
    "# ② Display regression line parameters / แสดงพารามิเตอร์ของเส้นถดถอย\n",
    "print(f\"Regression slope: ① {slope_sklearn[0]:.2f}, ② {slope_manual:.2f}, ③ {slope_inverse[0]:.2f}\")\n",
    "print(f\"Regression intercept: ① {intercept_sklearn[0]:.2f}, ② {intercept_manual:.2f}, ③ {intercept_inverse[0]:.2f}\")\n",
    "\n",
    "\n",
    "# ③ Calculate regression lines / คำนวณเส้นถดถอย\n",
    "X_new = np.array([[X.min()], [X.max()]])\n",
    "y_predict_sklearn = model.predict(X_new)\n",
    "y_predict_manual = intercept_manual + slope_manual * X_new\n",
    "y_predict_inverse = intercept_inverse + slope_inverse * X_new\n",
    "\n",
    "# ④ Plot scatter, regression lines, and errors / แสดงกราฟจุดกระจาย เส้นถดถอย และความคลาดเคลื่อน\n",
    "plt.scatter(X, y, color='black', label='Data')\n",
    "plt.plot(X_new, y_predict_sklearn, label='Regression line (scikit-learn)', linestyle='--')\n",
    "plt.plot(X_new, y_predict_manual, label='Regression line (manual)', linestyle='-.')\n",
    "plt.plot(X_new, y_predict_inverse, label='Regression line (inverse)', linestyle=':')\n",
    "\n",
    "# ⑤ Plot error lines for each data point / แสดงเส้นความคลาดเคลื่อนของแต่ละจุดข้อมูล\n",
    "for x, actual, predicted in zip(X, y, model.predict(X)):\n",
    "    plt.plot([x, x], [actual, predicted], color='red', linestyle='-', linewidth=1)\n",
    "\n",
    "plt.xlabel('Sugar (X)')\n",
    "plt.ylabel('Acid (y)')\n",
    "plt.title('Sugar vs. Acid and Regression Lines')\n",
    "plt.legend()\n",
    "plt.grid(True)\n",
    "plt.show()\n"
   ]
  },
  {
   "cell_type": "markdown",
   "id": "965f0933",
   "metadata": {},
   "source": [
    "# <span style=\"color:RoyalBlue; \">4.3 Relationship Between DataFrame (pandas) and ndarray (NumPy) / ความสัมพันธ์ระหว่าง DataFrame (pandas) กับ ndarray (NumPy)</span>\n",
    "###### <span style=\"color: gray \">Code 4.5 Handling DataFrame and ndarray / โค้ด 4.5 วิธีการจัดการ DataFrame และ ndarray</span>\n"
   ]
  },
  {
   "cell_type": "code",
   "execution_count": 22,
   "id": "e40d509c",
   "metadata": {},
   "outputs": [],
   "source": [
    "import pandas as pd\n",
    "import numpy as np\n",
    "import matplotlib.pyplot as plt\n",
    "excel_path='dataChapter04/4_pandas.xlsx'\n",
    "df_p1 = pd.read_excel(excel_path, sheet_name='p1',index_col=0)"
   ]
  },
  {
   "cell_type": "markdown",
   "id": "2edee3a6",
   "metadata": {},
   "source": [
    "###### <span style=\"color: gray \">Code 4.6 Contents to Check / โค้ด 4.6 เนื้อหาที่จะตรวจสอบ</span>\n"
   ]
  },
  {
   "cell_type": "code",
   "execution_count": 25,
   "id": "bc5ab448",
   "metadata": {},
   "outputs": [
    {
     "name": "stdout",
     "output_type": "stream",
     "text": [
      "Shape of the matrix:\n",
      " (6, 2) \n",
      "\n",
      "Size:\n",
      " 12 \n",
      "\n",
      "Index:\n",
      " Index(['apple1', 'apple2', 'apple3', 'apple4', 'apple5', 'apple6'], dtype='object') \n",
      "\n",
      "Column names:\n",
      " Index(['Sugarcontent', 'Acidcontent'], dtype='object') \n",
      "\n",
      "Values:\n",
      " [[10.   0.5]\n",
      " [12.   0.6]\n",
      " [ 8.   1. ]\n",
      " [ 9.   0.8]\n",
      " [10.   0.7]\n",
      " [15.   1. ]] \n",
      "\n",
      "Absolute position selection:\n",
      " 0.5 \n",
      "\n",
      "Absolute position selection (slice):\n",
      "         Sugarcontent\n",
      "apple1            10\n",
      "apple2            12\n",
      "apple3             8 \n",
      "\n",
      "Label selection (column):\n",
      " apple1    10\n",
      "apple2    12\n",
      "apple3     8\n",
      "apple4     9\n",
      "apple5    10\n",
      "apple6    15\n",
      "Name: Sugarcontent, dtype: int64 \n",
      "\n",
      "Label selection (row):\n",
      " Sugarcontent    10.0\n",
      "Acidcontent      0.5\n",
      "Name: apple1, dtype: float64 \n",
      "\n"
     ]
    }
   ],
   "source": [
    "print(\"Shape of the matrix:\\n\", df_p1.shape, \"\\n\")            # Shape of the matrix / ขนาดของเมทริกซ์\n",
    "print(\"Size:\\n\", df_p1.size, \"\\n\")                            # Size / ขนาด\n",
    "print(\"Index:\\n\", df_p1.index, \"\\n\")                          # Index / ดัชนี\n",
    "print(\"Column names:\\n\", df_p1.columns, \"\\n\")                 # Column names / ชื่อคอลัมน์\n",
    "print(\"Values:\\n\", df_p1.values, \"\\n\")                        # Values / ค่า\n",
    "print(\"Absolute position selection:\\n\", df_p1.iloc[0, 1], \"\\n\")   # Absolute position selection / การระบุตำแหน่งแบบสัมบูรณ์\n",
    "print(\"Absolute position selection (slice):\\n\", df_p1.iloc[0:3, [0]], \"\\n\")  # Absolute position selection (slice) / การระบุตำแหน่งแบบสัมบูรณ์แบบสไลซ์\n",
    "print(\"Label selection (column):\\n\", df_p1.loc[:, \"Sugarcontent\"], \"\\n\")  # Label selection (column) / การเลือกโดยป้ายชื่อ (คอลัมน์)\n",
    "print(\"Label selection (row):\\n\", df_p1.loc[\"apple1\", :], \"\\n\")          # Label selection (row) / การเลือกโดยป้ายชื่อ (แถว)\n"
   ]
  },
  {
   "cell_type": "markdown",
   "id": "8e876acc",
   "metadata": {},
   "source": [
    "###### <span style=\"color: gray \">Code 4.7 Converting DataFrame to ndarray / โค้ด 4.7 การแปลง DataFrame เป็น ndarray</span>\n"
   ]
  },
  {
   "cell_type": "code",
   "execution_count": 26,
   "id": "a59804bf",
   "metadata": {},
   "outputs": [
    {
     "name": "stdout",
     "output_type": "stream",
     "text": [
      "Index\n",
      " Index(['apple1', 'apple2', 'apple3', 'apple4', 'apple5', 'apple6'], dtype='object') \n",
      "\n",
      "Columns\n",
      " Index(['Sugarcontent', 'Acidcontent'], dtype='object') \n",
      "\n",
      "Values\n",
      " [[10.   0.5]\n",
      " [12.   0.6]\n",
      " [ 8.   1. ]\n",
      " [ 9.   0.8]\n",
      " [10.   0.7]\n",
      " [15.   1. ]] \n",
      "\n"
     ]
    }
   ],
   "source": [
    "array_p1 = np.array(df_p1)\n",
    "df_index = df_p1.index\n",
    "df_columns = df_p1.columns\n",
    "\n",
    "print(\"Index\\n\", df_index, \"\\n\")       # Index / ดัชนี\n",
    "print(\"Columns\\n\", df_columns, \"\\n\")   # Columns / คอลัมน์\n",
    "print(\"Values\\n\", array_p1, \"\\n\")      # Values / ค่า\n"
   ]
  },
  {
   "cell_type": "markdown",
   "id": "51977788",
   "metadata": {},
   "source": [
    "###### <span style=\"color: gray \">Code 4.9 Comparison Between DataFrame and ndarray / โค้ด 4.9 การเปรียบเทียบระหว่าง DataFrame และ ndarray</span>\n"
   ]
  },
  {
   "cell_type": "code",
   "execution_count": 29,
   "id": "083a7925",
   "metadata": {},
   "outputs": [
    {
     "name": "stdout",
     "output_type": "stream",
     "text": [
      "DataFrame size: 12\n",
      "Array size: 12 \n",
      "\n",
      "DataFrame shape: (6, 2)\n",
      "Array shape: (6, 2) \n",
      "\n",
      "DataFrame length: 6\n",
      "Array length: 6 \n",
      "\n",
      "DataFrame absolute position: 0.8\n",
      "Array absolute position: 0.8\n"
     ]
    }
   ],
   "source": [
    "print(\"DataFrame size:\", df_p1.size)               # DataFrame size / ขนาดของ DataFrame\n",
    "print(\"Array size:\", array_p1.size, \"\\n\")          # Array size / ขนาดของอาเรย์\n",
    "print(\"DataFrame shape:\", df_p1.shape)             # DataFrame shape / รูปร่างของ DataFrame\n",
    "print(\"Array shape:\", array_p1.shape, \"\\n\")        # Array shape / รูปร่างของอาเรย์\n",
    "print(\"DataFrame length:\", len(df_p1))             # DataFrame length / ความยาวของ DataFrame\n",
    "print(\"Array length:\", len(array_p1), \"\\n\")        # Array length / ความยาวของอาเรย์\n",
    "print(\"DataFrame absolute position:\", df_p1.iloc[3,1])  # DataFrame absolute position / การระบุตำแหน่งแบบสัมบูรณ์ใน DataFrame\n",
    "print(\"Array absolute position:\", array_p1[3,1])        # Array absolute position / การระบุตำแหน่งแบบสัมบูรณ์ในอาเรย์\n"
   ]
  },
  {
   "cell_type": "markdown",
   "id": "da3626f4",
   "metadata": {},
   "source": [
    "###### <span style=\"color: gray \">Code 4.10 Comparison of Operations Between DataFrame and ndarray / โค้ด 4.10 การเปรียบเทียบการดำเนินการระหว่าง DataFrame และ ndarray</span>\n"
   ]
  },
  {
   "cell_type": "code",
   "execution_count": 30,
   "id": "55521836",
   "metadata": {},
   "outputs": [
    {
     "name": "stdout",
     "output_type": "stream",
     "text": [
      "DataFrame matrix\n",
      "    c1  c2  c3\n",
      "0   1   2   3\n",
      "1   4   5   6\n",
      "2   7   8   9 \n",
      "\n",
      "Array matrix\n",
      " [[1 2 3]\n",
      " [4 5 6]\n",
      " [7 8 9]] \n",
      "\n"
     ]
    }
   ],
   "source": [
    "# Definition of matrices / การกำหนดเมทริกซ์\n",
    "df_x = pd.DataFrame({'c1': [1, 4, 7], 'c2': [2, 5, 8], 'c3': [3, 6, 9]})\n",
    "array_x = np.array([[1, 2, 3], [4, 5, 6], [7, 8, 9]])\n",
    "print(\"DataFrame matrix\\n\", df_x, \"\\n\")\n",
    "print(\"Array matrix\\n\", array_x, \"\\n\")\n"
   ]
  },
  {
   "cell_type": "markdown",
   "id": "fe00921f",
   "metadata": {},
   "source": [
    "###### <span style=\"color: gray \">Code 4.11 Calculations of Max, Product, etc. in DataFrame / โค้ด 4.11 การคำนวณค่ามากสุด ผลคูณ ฯลฯ ใน DataFrame</span>\n"
   ]
  },
  {
   "cell_type": "code",
   "execution_count": 31,
   "id": "98935e62",
   "metadata": {},
   "outputs": [
    {
     "name": "stdout",
     "output_type": "stream",
     "text": [
      "Maximum values (by row):\n",
      " 0    3\n",
      "1    6\n",
      "2    9\n",
      "dtype: int64 \n",
      "\n",
      "Maximum values (by column):\n",
      " c1    7\n",
      "c2    8\n",
      "c3    9\n",
      "dtype: int64 \n",
      "\n",
      "Indices of max values (by column):\n",
      " c1    2\n",
      "c2    2\n",
      "c3    2\n",
      "dtype: int64 \n",
      "\n",
      "Minimum values (by row):\n",
      " 0    1\n",
      "1    4\n",
      "2    7\n",
      "dtype: int64 \n",
      "\n",
      "Mean values (by row):\n",
      " 0    2.0\n",
      "1    5.0\n",
      "2    8.0\n",
      "dtype: float64 \n",
      "\n",
      "Variance (by row):\n",
      " 0    1.0\n",
      "1    1.0\n",
      "2    1.0\n",
      "dtype: float64 \n",
      "\n",
      "Standard deviation (by row):\n",
      " 0    1.0\n",
      "1    1.0\n",
      "2    1.0\n",
      "dtype: float64 \n",
      "\n",
      "Element-wise square root:\n",
      "          c1        c2        c3\n",
      "0  1.000000  1.414214  1.732051\n",
      "1  2.000000  2.236068  2.449490\n",
      "2  2.645751  2.828427  3.000000 \n",
      "\n",
      "Element-wise power of 2:\n",
      "    c1  c2  c3\n",
      "0   1   4   9\n",
      "1  16  25  36\n",
      "2  49  64  81 \n",
      "\n",
      "Element-wise product:\n",
      "    c1  c2  c3\n",
      "0   1   4   9\n",
      "1  16  25  36\n",
      "2  49  64  81 \n",
      "\n",
      "Element-wise division:\n",
      "     c1   c2   c3\n",
      "0  1.0  1.0  1.0\n",
      "1  1.0  1.0  1.0\n",
      "2  1.0  1.0  1.0 \n",
      "\n",
      "Element-wise sum:\n",
      "    c1  c2  c3\n",
      "0   2   4   6\n",
      "1   8  10  12\n",
      "2  14  16  18 \n",
      "\n",
      "Matrix multiplication:\n",
      "     0    1    2\n",
      "0  14   32   50\n",
      "1  32   77  122\n",
      "2  50  122  194 \n",
      "\n"
     ]
    }
   ],
   "source": [
    "print('Maximum values (by row):\\n', df_x.max(axis=1), \"\\n\")                      # Maximum values (by row) / ค่าสูงสุด (ตามแถว)\n",
    "print('Maximum values (by column):\\n', df_x.max(axis=0), \"\\n\")                   # Maximum values (by column) / ค่าสูงสุด (ตามคอลัมน์)\n",
    "print('Indices of max values (by column):\\n', df_x.idxmax(axis=0), \"\\n\")        # Indices of maximum values (by column) / ตำแหน่งของค่าสูงสุด (ตามคอลัมน์)\n",
    "print('Minimum values (by row):\\n', df_x.min(axis=1), \"\\n\")                      # Minimum values (by row) / ค่าต่ำสุด (ตามแถว)\n",
    "print('Mean values (by row):\\n', df_x.mean(axis=1), \"\\n\")                        # Mean values (by row) / ค่าเฉลี่ย (ตามแถว)\n",
    "print('Variance (by row):\\n', df_x.var(axis=1), \"\\n\")                            # Variance (by row) / ความแปรปรวน (ตามแถว)\n",
    "print('Standard deviation (by row):\\n', df_x.std(axis=1), \"\\n\")                  # Standard deviation (by row) / ส่วนเบี่ยงเบนมาตรฐาน (ตามแถว)\n",
    "print('Element-wise square root:\\n', np.sqrt(df_x), \"\\n\")                        # Element-wise square root / รากที่สองของแต่ละค่า\n",
    "print('Element-wise power of 2:\\n', df_x ** 2, \"\\n\")                            # Element-wise power of 2 / ยกกำลังสองของแต่ละค่า\n",
    "print('Element-wise product:\\n', df_x * df_x, \"\\n\")                             # Element-wise product / ผลคูณของแต่ละค่า\n",
    "print('Element-wise division:\\n', df_x / df_x, \"\\n\")                            # Element-wise division / การหารของแต่ละค่า\n",
    "print('Element-wise sum:\\n', df_x + df_x, \"\\n\")                                 # Element-wise sum / ผลรวมของแต่ละค่า\n",
    "print('Matrix multiplication:\\n', df_x.dot(df_x.T), \"\\n\")                       # Matrix multiplication / การคูณเมทริกซ์\n"
   ]
  },
  {
   "cell_type": "markdown",
   "id": "5197e417",
   "metadata": {},
   "source": [
    "###### <span style=\"color: gray \">Code 4.12 Calculations of Max, Product, etc. in ndarray / โค้ด 4.12 การคำนวณค่ามากสุด ผลคูณ ฯลฯ ใน ndarray</span>\n"
   ]
  },
  {
   "cell_type": "code",
   "execution_count": 32,
   "id": "481cc875",
   "metadata": {},
   "outputs": [
    {
     "name": "stdout",
     "output_type": "stream",
     "text": [
      "Maximum values (by row):\n",
      " [3 6 9] \n",
      "\n",
      "Maximum values (by column):\n",
      " [7 8 9] \n",
      "\n",
      "Indices of max values (by column):\n",
      " [2 2 2] \n",
      "\n",
      "Minimum values (by row):\n",
      " [1 4 7] \n",
      "\n",
      "Mean values (by row):\n",
      " [2. 5. 8.] \n",
      "\n",
      "Variance (by row):\n",
      " [1. 1. 1.] \n",
      "\n",
      "Standard deviation (by row):\n",
      " [1. 1. 1.] \n",
      "\n",
      "Element-wise square root:\n",
      " [[1.         1.41421356 1.73205081]\n",
      " [2.         2.23606798 2.44948974]\n",
      " [2.64575131 2.82842712 3.        ]] \n",
      "\n",
      "Element-wise power of 2 (using **):\n",
      " [[ 1  4  9]\n",
      " [16 25 36]\n",
      " [49 64 81]] \n",
      "\n",
      "Element-wise power of 2 (using np.power):\n",
      " [[ 1  4  9]\n",
      " [16 25 36]\n",
      " [49 64 81]] \n",
      "\n",
      "Element-wise product:\n",
      " [[ 1  4  9]\n",
      " [16 25 36]\n",
      " [49 64 81]] \n",
      "\n",
      "Element-wise division:\n",
      " [[1. 1. 1.]\n",
      " [1. 1. 1.]\n",
      " [1. 1. 1.]] \n",
      "\n",
      "Element-wise sum:\n",
      " [[ 2  4  6]\n",
      " [ 8 10 12]\n",
      " [14 16 18]] \n",
      "\n",
      "Matrix multiplication:\n",
      " [[ 14  32  50]\n",
      " [ 32  77 122]\n",
      " [ 50 122 194]] \n",
      "\n"
     ]
    }
   ],
   "source": [
    "print('Maximum values (by row):\\n', np.max(array_x, axis=1), \"\\n\")                 # Maximum values (by row) / ค่าสูงสุด (ตามแถว)\n",
    "print('Maximum values (by column):\\n', np.max(array_x, axis=0), \"\\n\")              # Maximum values (by column) / ค่าสูงสุด (ตามคอลัมน์)\n",
    "print('Indices of max values (by column):\\n', np.argmax(array_x, axis=0), \"\\n\")    # Indices of max values (by column) / ตำแหน่งของค่าสูงสุด (ตามคอลัมน์)\n",
    "print('Minimum values (by row):\\n', np.min(array_x, axis=1), \"\\n\")                 # Minimum values (by row) / ค่าต่ำสุด (ตามแถว)\n",
    "print('Mean values (by row):\\n', np.mean(array_x, axis=1), \"\\n\")                   # Mean values (by row) / ค่าเฉลี่ย (ตามแถว)\n",
    "print('Variance (by row):\\n', np.var(array_x, axis=1, ddof=1), \"\\n\")               # Variance (by row) / ความแปรปรวน (ตามแถว)\n",
    "print('Standard deviation (by row):\\n', np.std(array_x, axis=1, ddof=1), \"\\n\")     # Standard deviation (by row) / ส่วนเบี่ยงเบนมาตรฐาน (ตามแถว)\n",
    "print('Element-wise square root:\\n', np.sqrt(array_x), \"\\n\")                       # Element-wise square root / รากที่สองของแต่ละค่า\n",
    "print('Element-wise power of 2 (using **):\\n', array_x**2, \"\\n\")                   # Element-wise power of 2 (using **) / ยกกำลังสองของแต่ละค่า (ใช้ **)\n",
    "print('Element-wise power of 2 (using np.power):\\n', np.power(array_x, 2), \"\\n\")   # Element-wise power of 2 (using np.power) / ยกกำลังสองของแต่ละค่า (ใช้ np.power)\n",
    "print('Element-wise product:\\n', array_x * array_x, \"\\n\")                          # Element-wise product / ผลคูณของแต่ละค่า\n",
    "print('Element-wise division:\\n', array_x / array_x, \"\\n\")                         # Element-wise division / การหารของแต่ละค่า\n",
    "print('Element-wise sum:\\n', array_x + array_x, \"\\n\")                              # Element-wise sum / ผลรวมของแต่ละค่า\n",
    "print('Matrix multiplication:\\n', array_x.dot(array_x.T), \"\\n\")                    # Matrix multiplication / การคูณเมทริกซ์\n"
   ]
  }
 ],
 "metadata": {
  "kernelspec": {
   "display_name": "Python 3 (ipykernel)",
   "language": "python",
   "name": "python3"
  },
  "language_info": {
   "codemirror_mode": {
    "name": "ipython",
    "version": 3
   },
   "file_extension": ".py",
   "mimetype": "text/x-python",
   "name": "python",
   "nbconvert_exporter": "python",
   "pygments_lexer": "ipython3",
   "version": "3.11.7"
  }
 },
 "nbformat": 4,
 "nbformat_minor": 5
}
