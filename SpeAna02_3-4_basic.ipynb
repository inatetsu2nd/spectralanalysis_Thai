{
 "cells": [
  {
   "cell_type": "markdown",
   "metadata": {},
   "source": [
    "# <span style=\"color:RoyalBlue; \">2.3 Introduction to Python Programming / บทนำสู่การเขียนโปรแกรมภาษา Python</span>"
   ]
  },
  {
   "cell_type": "markdown",
   "metadata": {},
   "source": [
    "###### <span style=\"color: gray \">Code 2.1 Trial Program / โค้ด 2.1 โปรแกรมทดลอง</span>"
   ]
  },
  {
   "cell_type": "code",
   "execution_count": 1,
   "metadata": {},
   "outputs": [
    {
     "data": {
      "text/plain": [
       "2.0"
      ]
     },
     "execution_count": 1,
     "metadata": {},
     "output_type": "execute_result"
    }
   ],
   "source": [
    "4/2"
   ]
  },
  {
   "cell_type": "markdown",
   "metadata": {},
   "source": [
    "###### <span style=\"color: gray \">code2.2　Basic arithmetic operations</span>"
   ]
  },
  {
   "cell_type": "code",
   "execution_count": 1,
   "metadata": {
    "scrolled": false
   },
   "outputs": [
    {
     "name": "stdout",
     "output_type": "stream",
     "text": [
      "1.5\n",
      "1\n",
      "2\n",
      "256\n"
     ]
    }
   ],
   "source": [
    "print(3/2)   # Division / การหาร\n",
    "print(3//2)  # Floor division / การหารปัดเศษลง\n",
    "print(11%3)  # Remainder / เศษที่เหลือ\n",
    "print(2**8)  # Exponentiation / การยกกำลัง"
   ]
  },
  {
   "cell_type": "markdown",
   "metadata": {},
   "source": [
    "## <span style=\"color: DeepPink; \">2.3.1 Keyboard Shortcuts and Markdown / คีย์ลัดและ Markdown</span>"
   ]
  },
  {
   "cell_type": "markdown",
   "metadata": {},
   "source": [
    "###### <span style=\"color: gray \">Code 2.3 Markdown / โค้ด 2.3 มาร์กดาวน์</span>"
   ]
  },
  {
   "cell_type": "markdown",
   "metadata": {},
   "source": [
    "### Jupyter Notebook Shortcut Summary / สรุปคีย์ลัดของ Jupyter Notebook  \n",
    "#### Jupyter Notebook Shortcut Summary / สรุปคีย์ลัดของ Jupyter Notebook  \n",
    "- <kbd>H</kbd>: Show help / แสดงคำแนะนำ  \n",
    "- <kbd>M</kbd>: Change to Markdown cell / เปลี่ยนเป็นเซลล์ Markdown  \n",
    "- <kbd>Ctrl</kbd>+<kbd>Enter</kbd>: Run the current cell / รันเซลล์ปัจจุบัน  \n",
    "- <kbd>Shift</kbd>+<kbd>Enter</kbd>: Run the current cell and move down / รันเซลล์แล้วเลื่อนไปยังเซลล์ถัดไป  \n",
    "- <kbd>Ctrl</kbd>+<kbd>/</kbd>: Comment out / คอมเมนต์โค้ด  \n",
    "- <kbd>Y</kbd>: Change to Code cell / เปลี่ยนเป็นเซลล์โค้ด  \n",
    "- <kbd>A</kbd>: Insert an empty cell above / แทรกเซลล์ว่างด้านบน  \n",
    "- <kbd>B</kbd>: Insert an empty cell below / แทรกเซลล์ว่างด้านล่าง  \n",
    "- <kbd>D</kbd><kbd>D</kbd>: Delete cell / ลบเซลล์  "
   ]
  },
  {
   "cell_type": "markdown",
   "metadata": {},
   "source": [
    "## <span style=\"color: DeepPink; \">2.3.2 Handling Variables / การจัดการตัวแปร</span>"
   ]
  },
  {
   "cell_type": "markdown",
   "metadata": {},
   "source": [
    "###### <span style=\"color: gray \">Code 2.4 Handling Variables / โค้ด 2.4 การจัดการตัวแปร</span>"
   ]
  },
  {
   "cell_type": "code",
   "execution_count": 2,
   "metadata": {
    "scrolled": true
   },
   "outputs": [
    {
     "name": "stdout",
     "output_type": "stream",
     "text": [
      "The area of the circle is 314.0\n"
     ]
    }
   ],
   "source": [
    "a = 10\n",
    "b = 5\n",
    "S = a**2 * 3.14\n",
    "print('The area of the circle is', S)  # / พื้นที่ของวงกลมคือ"
   ]
  },
  {
   "cell_type": "markdown",
   "metadata": {},
   "source": [
    "## <span style=\"color: DeepPink; \">2.3.3 Lists / ลิสต์</span>"
   ]
  },
  {
   "cell_type": "markdown",
   "metadata": {},
   "source": [
    "###### <span style=\"color: gray \">Code 2.5 Lists / โค้ด 2.5 ลิสต์</span>"
   ]
  },
  {
   "cell_type": "code",
   "execution_count": 3,
   "metadata": {},
   "outputs": [
    {
     "name": "stdout",
     "output_type": "stream",
     "text": [
      "[1, 2, 3, 4, 5]\n"
     ]
    }
   ],
   "source": [
    "number = [1, 2, 3, 4, 5]  # List / ลิสต์\n",
    "print(number)"
   ]
  },
  {
   "cell_type": "markdown",
   "metadata": {},
   "source": [
    "###### <span style=\"color: gray \">Code 2.6 Data Types / โค้ด 2.6 ชนิดของข้อมูล</span>"
   ]
  },
  {
   "cell_type": "code",
   "execution_count": 4,
   "metadata": {},
   "outputs": [
    {
     "name": "stdout",
     "output_type": "stream",
     "text": [
      "This is a string\n",
      "The data type of the variable is <class 'str'>\n"
     ]
    }
   ],
   "source": [
    "# Integer = int type / จำนวนเต็ม = ชนิด int  \n",
    "# Floating point number = float type / ทศนิยม = ชนิด float  \n",
    "# String = str type / สตริง = ชนิด str  \n",
    "# Boolean (True[1], False[0]) = bool type / ค่าความจริง (True[1], False[0]) = ชนิด bool\n",
    "\n",
    "A = \"This is a string\"\n",
    "print(A)\n",
    "print(\"The data type of the variable is\", type(A))  # / ชนิดของตัวแปรคือ"
   ]
  },
  {
   "cell_type": "markdown",
   "metadata": {},
   "source": [
    "###### <span style=\"color: gray \">Code 2.7 List Operations / โค้ด 2.7 การจัดการลิสต์</span>"
   ]
  },
  {
   "cell_type": "code",
   "execution_count": 5,
   "metadata": {},
   "outputs": [
    {
     "name": "stdout",
     "output_type": "stream",
     "text": [
      "The contents of the list are ['Height', 175, 'Weight', 60]\n",
      "The length of the list is 4\n",
      "The first element of the list is Height\n",
      "The third element of the list is Weight\n",
      "The updated contents of the list are ['Height', 175, 'Weight', 45]\n"
     ]
    }
   ],
   "source": [
    "data = ['Height', 175, 'Weight', 60]\n",
    "print('The contents of the list are', data)  # ① List contents / เนื้อหาภายในลิสต์\n",
    "print('The length of the list is', len(data))  # ② List length / ความยาวของลิสต์\n",
    "print('The first element of the list is', data[0])  # ③ First element of list (index starts from 0) / สมาชิกตัวแรกของลิสต์ (เริ่มนับจาก 0)\n",
    "print('The third element of the list is', data[2])  # ④ Third element / สมาชิกตัวที่สาม\n",
    "data[3] = 45  # ⑤\n",
    "print('The updated contents of the list are', data)  # ⑥ Updated list contents / เนื้อหาลิสต์ที่อัปเดตแล้ว"
   ]
  },
  {
   "cell_type": "markdown",
   "metadata": {},
   "source": [
    "## <span style=\"color: DeepPink; \">2.3.4 Tuples / ทูเพิล</span>"
   ]
  },
  {
   "cell_type": "markdown",
   "metadata": {},
   "source": [
    "###### <span style=\"color: gray \">Code 2.8 Tuples / โค้ด 2.8 ทูเพิล</span>"
   ]
  },
  {
   "cell_type": "code",
   "execution_count": 6,
   "metadata": {},
   "outputs": [
    {
     "name": "stdout",
     "output_type": "stream",
     "text": [
      "The contents of the tuple are ('Height', 175, 'Weight', 60)\n",
      "The length of the tuple is 4\n",
      "The first element of the tuple is Height\n",
      "The third element of the tuple is Weight\n"
     ]
    },
    {
     "ename": "TypeError",
     "evalue": "'tuple' object does not support item assignment",
     "output_type": "error",
     "traceback": [
      "\u001b[1;31m---------------------------------------------------------------------------\u001b[0m",
      "\u001b[1;31mTypeError\u001b[0m                                 Traceback (most recent call last)",
      "Cell \u001b[1;32mIn[6], line 7\u001b[0m\n\u001b[0;32m      5\u001b[0m \u001b[38;5;28mprint\u001b[39m(\u001b[38;5;124m\"\u001b[39m\u001b[38;5;124mThe first element of the tuple is\u001b[39m\u001b[38;5;124m\"\u001b[39m, data[\u001b[38;5;241m0\u001b[39m])  \u001b[38;5;66;03m# Access by index / เข้าถึงสมาชิกด้วยดัชนี\u001b[39;00m\n\u001b[0;32m      6\u001b[0m \u001b[38;5;28mprint\u001b[39m(\u001b[38;5;124m\"\u001b[39m\u001b[38;5;124mThe third element of the tuple is\u001b[39m\u001b[38;5;124m\"\u001b[39m, data[\u001b[38;5;241m2\u001b[39m])  \u001b[38;5;66;03m# Access by index / เข้าถึงสมาชิกด้วยดัชนี\u001b[39;00m\n\u001b[1;32m----> 7\u001b[0m data[\u001b[38;5;241m3\u001b[39m] \u001b[38;5;241m=\u001b[39m \u001b[38;5;241m45\u001b[39m\n",
      "\u001b[1;31mTypeError\u001b[0m: 'tuple' object does not support item assignment"
     ]
    }
   ],
   "source": [
    "# Tuple definition / การกำหนดทูเพิล\n",
    "data = (\"Height\", 175, \"Weight\", 60)\n",
    "print(\"The contents of the tuple are\", data)  # Display tuple contents / แสดงเนื้อหาของทูเพิล\n",
    "print(\"The length of the tuple is\", len(data))  # Display length / แสดงความยาว\n",
    "print(\"The first element of the tuple is\", data[0])  # Access by index / เข้าถึงสมาชิกด้วยดัชนี\n",
    "print(\"The third element of the tuple is\", data[2])  # Access by index / เข้าถึงสมาชิกด้วยดัชนี\n",
    "data[3] = 45  # Tuples are immutable, so this will raise an error / ทูเพิลเปลี่ยนแปลงค่าไม่ได้ จะเกิดข้อผิดพลาด"
   ]
  },
  {
   "cell_type": "markdown",
   "metadata": {},
   "source": [
    "## <span style=\"color: DeepPink; \">2.3.5 Boolean Type (bool) / ชนิดข้อมูลบูลีน (bool)</span>"
   ]
  },
  {
   "cell_type": "markdown",
   "metadata": {},
   "source": [
    "###### <span style=\"color: gray \">Code 2.9 Boolean Type and Conditional Expressions / โค้ด 2.9 ชนิดบูลีนและนิพจน์เงื่อนไข</span>"
   ]
  },
  {
   "cell_type": "code",
   "execution_count": 7,
   "metadata": {},
   "outputs": [
    {
     "name": "stdout",
     "output_type": "stream",
     "text": [
      "The value of bool_integer is 100\n",
      "Is bool_integer greater than or equal to 50? → True\n",
      "Is bool_integer greater than or equal to 200? → False\n"
     ]
    }
   ],
   "source": [
    "# Boolean type (True or False) / ชนิดบูลีน (จริง หรือ เท็จ)\n",
    "bool_integer = 100\n",
    "bool_50 = bool_integer >= 50\n",
    "bool_200 = bool_integer >= 200\n",
    "print('The value of bool_integer is', bool_integer)  # / ค่าของ bool_integer คือ\n",
    "print('Is bool_integer greater than or equal to 50? →', bool_50)  # / bool_integer มากกว่าหรือเท่ากับ 50 หรือไม่?\n",
    "print('Is bool_integer greater than or equal to 200? →', bool_200)  # / bool_integer มากกว่าหรือเท่ากับ 200 หรือไม่?"
   ]
  },
  {
   "cell_type": "markdown",
   "metadata": {},
   "source": [
    "###### <span style=\"color: gray \">Code 2.10 Boolean Comparison Operators / โค้ด 2.10 การเปรียบเทียบบูลีน</span>"
   ]
  },
  {
   "cell_type": "code",
   "execution_count": 8,
   "metadata": {},
   "outputs": [
    {
     "name": "stdout",
     "output_type": "stream",
     "text": [
      "True\n",
      "False\n",
      "True\n",
      "False\n",
      "True\n",
      "True\n"
     ]
    }
   ],
   "source": [
    "a = 100\n",
    "print(a == 100)       # Equal to / เท่ากับ\n",
    "print(a != 100)       # Not equal to / ไม่เท่ากับ\n",
    "print(a > 80)         # Greater than / มากกว่า\n",
    "print(a < 80)         # Less than / น้อยกว่า\n",
    "print(a >= 100)       # Greater than or equal to / มากกว่าหรือเท่ากับ\n",
    "print(a <= 100)       # Less than or equal to / น้อยกว่าหรือเท่ากับ"
   ]
  },
  {
   "cell_type": "markdown",
   "metadata": {},
   "source": [
    "## <span style=\"color: DeepPink; \">2.3.6 if Statement / คำสั่ง if</span>"
   ]
  },
  {
   "cell_type": "markdown",
   "metadata": {},
   "source": [
    "###### <span style=\"color: gray \">Code 2.11 if Statement / โค้ด 2.11 คำสั่ง if</span>\n"
   ]
  },
  {
   "cell_type": "code",
   "execution_count": 9,
   "metadata": {},
   "outputs": [
    {
     "name": "stdout",
     "output_type": "stream",
     "text": [
      "You can buy something at the festival\n",
      "You can buy fried noodles\n"
     ]
    }
   ],
   "source": [
    "Ymoney = 1000\n",
    "# Ymoney = 450\n",
    "# Ymoney = 100\n",
    "\n",
    "if Ymoney >= 200:\n",
    "    print('You can buy something at the festival')  # / คุณสามารถซื้ออะไรบางอย่างในงานเทศกาลได้\n",
    "if Ymoney >= 500:\n",
    "    print('You can buy fried noodles')  # / คุณสามารถซื้อยากิโซบะได้\n",
    "elif 200 <= Ymoney < 500:\n",
    "    print('You can buy a candy apple')  # / คุณสามารถซื้อแอปเปิ้ลเคลือบน้ำตาลได้\n",
    "else:\n",
    "    print('You cannot buy anything')  # / คุณไม่สามารถซื้ออะไรได้เลย"
   ]
  },
  {
   "cell_type": "markdown",
   "metadata": {},
   "source": [
    "###### <span style=\"color: gray \">Code 2.12 Indentation / โค้ด 2.12 การเยื้องบรรทัด</span>"
   ]
  },
  {
   "cell_type": "markdown",
   "metadata": {},
   "source": [
    "if (condition):<BR>\n",
    "<font color=\"Red\">Indent →</font> statement to execute<BR>  # / เยื้องบรรทัด → คำสั่งที่ต้องการให้ทำงาน\n",
    "elif (condition):<BR>\n",
    "<font color=\"Red\">Indent →</font> statement to execute<BR>  # / เยื้องบรรทัด → คำสั่งที่ต้องการให้ทำงาน\n",
    "else:<BR>\n",
    "<font color=\"Red\">Indent →</font> statement to execute<BR>  # / เยื้องบรรทัด → คำสั่งที่ต้องการให้ทำงาน\n"
   ]
  },
  {
   "cell_type": "markdown",
   "metadata": {},
   "source": [
    "## <span style=\"color: DeepPink; \">2.3.7 for Loop / คำสั่ง for</span>"
   ]
  },
  {
   "cell_type": "markdown",
   "metadata": {},
   "source": [
    "###### <span style=\"color: gray \">Code 2.13 Structure of for Loop / โค้ด 2.13 โครงสร้างของคำสั่ง for</span>"
   ]
  },
  {
   "cell_type": "markdown",
   "metadata": {},
   "source": [
    "for variable in object<BR>\n",
    "<font color=\"Red\">Indent →</font> statement to execute<BR>  # / เยื้องบรรทัด → คำสั่งที่ต้องการให้ทำงาน"
   ]
  },
  {
   "cell_type": "markdown",
   "metadata": {},
   "source": [
    "###### <span style=\"color: gray \">Code 2.14 Example of for Loop / โค้ด 2.14 ตัวอย่างคำสั่ง for</span>"
   ]
  },
  {
   "cell_type": "code",
   "execution_count": 11,
   "metadata": {},
   "outputs": [
    {
     "name": "stdout",
     "output_type": "stream",
     "text": [
      "0\n",
      "1\n",
      "2\n"
     ]
    }
   ],
   "source": [
    "for i in [0,1,2]:\n",
    "    print(i)"
   ]
  },
  {
   "cell_type": "markdown",
   "metadata": {},
   "source": [
    "###### <span style=\"color: gray \">Code 2.15 range Function / โค้ด 2.15 ฟังก์ชัน range</span>"
   ]
  },
  {
   "cell_type": "code",
   "execution_count": 12,
   "metadata": {},
   "outputs": [
    {
     "name": "stdout",
     "output_type": "stream",
     "text": [
      "range(0, 5)\n",
      "0\n",
      "1\n",
      "2\n",
      "3\n",
      "4\n"
     ]
    }
   ],
   "source": [
    "A = range(5)\n",
    "print(A)\n",
    "for i in range(5):\n",
    "    print(i)"
   ]
  },
  {
   "cell_type": "markdown",
   "metadata": {},
   "source": [
    "###### <span style=\"color: gray \">Code 2.16 for Loop and Variables / โค้ด 2.16 คำสั่ง for กับตัวแปร</span>"
   ]
  },
  {
   "cell_type": "code",
   "execution_count": 10,
   "metadata": {},
   "outputs": [
    {
     "name": "stdout",
     "output_type": "stream",
     "text": [
      "python\n",
      "with\n",
      "spectrum analysis\n"
     ]
    }
   ],
   "source": [
    "words = [\"python\", \"with\", \"spectrum analysis\"]\n",
    "for w in words:\n",
    "    print(w)  # Print each word in the list / แสดงคำแต่ละคำในลิสต์"
   ]
  },
  {
   "cell_type": "markdown",
   "metadata": {},
   "source": [
    "## <span style=\"color: DeepPink; \">2.3.8 Function Definitions / การกำหนดฟังก์ชัน</span>\n"
   ]
  },
  {
   "cell_type": "markdown",
   "metadata": {},
   "source": [
    "###### <span style=\"color: gray \">Code 2.17 Structure of Function Definition Using def Keyword / โค้ด 2.17 โครงสร้างของการกำหนดฟังก์ชันด้วยคีย์เวิร์ด def</span>"
   ]
  },
  {
   "cell_type": "markdown",
   "metadata": {},
   "source": [
    "def function_name(arguments):<BR>\n",
    "   <font color=\"Red\">Indent →</font> statement to execute<BR>  # / เยื้องบรรทัด → คำสั่งที่ต้องการให้ทำงาน\n",
    "   <font color=\"Red\">Indent →</font> return value<BR>  # / เยื้องบรรทัด → ส่งค่ากลับ"
   ]
  },
  {
   "cell_type": "markdown",
   "metadata": {},
   "source": [
    "###### <span style=\"color: gray \">Code 2.18 Function Without Arguments or Return Value / โค้ด 2.18 ฟังก์ชันที่ไม่มีอาร์กิวเมนต์และค่าที่ส่งกลับ</span>"
   ]
  },
  {
   "cell_type": "code",
   "execution_count": 14,
   "metadata": {},
   "outputs": [
    {
     "name": "stdout",
     "output_type": "stream",
     "text": [
      "hello to chemometorics\n",
      "for the spectral analysis\n"
     ]
    }
   ],
   "source": [
    "def hello():\n",
    "    print('hello to chemometorics')\n",
    "    print('for the spectral analysis')\n",
    "hello()"
   ]
  },
  {
   "cell_type": "markdown",
   "metadata": {},
   "source": [
    "###### <span style=\"color: gray \">Code 2.19 Function with Arguments / โค้ด 2.19 ฟังก์ชันที่มีอาร์กิวเมนต์</span>\n"
   ]
  },
  {
   "cell_type": "code",
   "execution_count": 11,
   "metadata": {},
   "outputs": [
    {
     "name": "stdout",
     "output_type": "stream",
     "text": [
      "sakai, welcome to chemometrics analysis\n",
      "kato, you can freely analyze the spectra\n"
     ]
    }
   ],
   "source": [
    "def show_hello_to(name1, name2):\n",
    "    print(name1 + ', welcome to chemometrics analysis')  # / ยินดีต้อนรับสู่การวิเคราะห์เคโมเมทริกส์\n",
    "    print(name2 + ', you can freely analyze the spectra')  # / คุณสามารถวิเคราะห์สเปกตรัมได้อย่างอิสระ\n",
    "\n",
    "show_hello_to('sakai', 'kato')"
   ]
  },
  {
   "cell_type": "markdown",
   "metadata": {},
   "source": [
    "###### <span style=\"color: gray \">Code 2.20 Function with Arguments and Return Value / โค้ด 2.20 ฟังก์ชันที่มีอาร์กิวเมนต์และค่าที่ส่งกลับ</span>\n"
   ]
  },
  {
   "cell_type": "code",
   "execution_count": 16,
   "metadata": {},
   "outputs": [
    {
     "name": "stdout",
     "output_type": "stream",
     "text": [
      "30 40 50\n"
     ]
    }
   ],
   "source": [
    "def simple_tashizan(a,b,c):\n",
    "    p1=a+b\n",
    "    p2=a+c\n",
    "    p3=b+c\n",
    "    return p1,p2,p3\n",
    "\n",
    "d1,d2,d3=simple_tashizan(10,20,30)\n",
    "print(d1,d2,d3)"
   ]
  },
  {
   "cell_type": "markdown",
   "metadata": {},
   "source": [
    "# <span style=\"color:RoyalBlue; \">2.4 Libraries / ไลบรารี</span>"
   ]
  },
  {
   "cell_type": "markdown",
   "metadata": {},
   "source": [
    "## <span style=\"color: DeepPink; \">2.4.2 Installing and Importing Libraries / การติดตั้งและนำเข้าไลบรารี</span>"
   ]
  },
  {
   "cell_type": "markdown",
   "metadata": {},
   "source": [
    "###### <span style=\"color: gray \">Code 2.21 How to Import a Library (Method 1) / โค้ด 2.21 วิธีการนำเข้าไลบรารี (แบบที่ 1)</span>"
   ]
  },
  {
   "cell_type": "code",
   "execution_count": 17,
   "metadata": {},
   "outputs": [],
   "source": [
    "import numpy"
   ]
  },
  {
   "cell_type": "markdown",
   "metadata": {},
   "source": [
    "###### <span style=\"color: gray \">Code 2.22 How to Import a Library (Method 2) / โค้ด 2.22 วิธีการนำเข้าไลบรารี (แบบที่ 2)</span>"
   ]
  },
  {
   "cell_type": "code",
   "execution_count": 18,
   "metadata": {},
   "outputs": [],
   "source": [
    "from numpy import array"
   ]
  },
  {
   "cell_type": "markdown",
   "metadata": {},
   "source": [
    "###### <span style=\"color: gray \">Code 2.23 How to Import a Library (Method 3) / โค้ด 2.23 วิธีการนำเข้าไลบรารี (แบบที่ 3)</span>"
   ]
  },
  {
   "cell_type": "code",
   "execution_count": 19,
   "metadata": {},
   "outputs": [],
   "source": [
    "import numpy as np\n",
    "a = np.array([1, 2, 3])"
   ]
  },
  {
   "cell_type": "markdown",
   "metadata": {},
   "source": [
    "###### <span style=\"color: gray \">Code 2.24 Common Usage of the as Keyword / โค้ด 2.24 การใช้คีย์เวิร์ด as ตามธรรมเนียม</span>"
   ]
  },
  {
   "cell_type": "code",
   "execution_count": 20,
   "metadata": {},
   "outputs": [],
   "source": [
    "import pandas as pd\n",
    "import matplotlib.pyplot as plt"
   ]
  },
  {
   "cell_type": "markdown",
   "metadata": {},
   "source": [
    "## <span style=\"color: DeepPink; \">2.4.3 How to Use Libraries / วิธีการใช้งานไลบรารี</span>"
   ]
  },
  {
   "cell_type": "markdown",
   "metadata": {},
   "source": [
    "###### <span style=\"color: gray \">Code 2.24 Methods / โค้ด 2.24 เมทอด</span>"
   ]
  },
  {
   "cell_type": "code",
   "execution_count": 12,
   "metadata": {},
   "outputs": [
    {
     "name": "stdout",
     "output_type": "stream",
     "text": [
      "[1 2 3 4 5 6]\n",
      "[[1 2 3]\n",
      " [4 5 6]]\n"
     ]
    }
   ],
   "source": [
    "import numpy as np\n",
    "array = np.array([1, 2, 3, 4, 5, 6])  # ① Create a 1D array / สร้างอาเรย์ 1 มิติ\n",
    "print(array)\n",
    "reshaped_array = array.reshape((2, 3))  # ② Change array shape using reshape() method / เปลี่ยนรูปร่างของอาเรย์ด้วยเมทอด reshape()\n",
    "print(reshaped_array)"
   ]
  },
  {
   "cell_type": "markdown",
   "metadata": {},
   "source": [
    "###### <span style=\"color: gray \">Code 2.25 Attributes / โค้ด 2.25 แอททริบิวต์</span>"
   ]
  },
  {
   "cell_type": "code",
   "execution_count": 13,
   "metadata": {},
   "outputs": [
    {
     "name": "stdout",
     "output_type": "stream",
     "text": [
      "(3,)\n",
      "int32\n"
     ]
    }
   ],
   "source": [
    "import numpy as np\n",
    "array = np.array([1, 2, 3])\n",
    "print(array.shape)  # (3,) - 1D array with 3 elements / อาเรย์ 1 มิติที่มี 3 สมาชิก\n",
    "print(array.dtype)  # int64 - Data type of each element is 64-bit integer / ชนิดข้อมูลของสมาชิกแต่ละตัวคือจำนวนเต็ม 64 บิต"
   ]
  }
 ],
 "metadata": {
  "kernelspec": {
   "display_name": "Python 3 (ipykernel)",
   "language": "python",
   "name": "python3"
  },
  "language_info": {
   "codemirror_mode": {
    "name": "ipython",
    "version": 3
   },
   "file_extension": ".py",
   "mimetype": "text/x-python",
   "name": "python",
   "nbconvert_exporter": "python",
   "pygments_lexer": "ipython3",
   "version": "3.11.7"
  }
 },
 "nbformat": 4,
 "nbformat_minor": 2
}
