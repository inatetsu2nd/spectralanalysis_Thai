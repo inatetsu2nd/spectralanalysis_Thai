{
 "cells": [
  {
   "cell_type": "markdown",
   "id": "e56a837d",
   "metadata": {},
   "source": [
    "# <span style=\"color:RoyalBlue; \">3.1 Mean, Variance, and Standard Deviation / ค่าเฉลี่ย ความแปรปรวน และส่วนเบี่ยงเบนมาตรฐาน</span>"
   ]
  },
  {
   "cell_type": "markdown",
   "id": "f7556aa0",
   "metadata": {},
   "source": [
    "###### <span style=\"color: gray \">Code 3.1 Calculation of Mean, Variance, and Standard Deviation / โค้ด 3.1 การคำนวณค่าเฉลี่ย ความแปรปรวน และส่วนเบี่ยงเบนมาตรฐาน</span>"
   ]
  },
  {
   "cell_type": "code",
   "execution_count": 1,
   "id": "eed17f1a",
   "metadata": {},
   "outputs": [
    {
     "name": "stdout",
     "output_type": "stream",
     "text": [
      "Sample A (Drinking Water) - Mean: 5.00, Variance: 0.67, Standard Deviation: 0.82\n",
      "Sample B (Wastewater) - Mean: 5.00, Variance: 16.67, Standard Deviation: 4.08\n"
     ]
    }
   ],
   "source": [
    "import numpy as np\n",
    "\n",
    "# ① Metal ion concentration (μg/L) in drinking water (Sample A) / ความเข้มข้นของไอออนโลหะในน้ำดื่ม (ตัวอย่าง A)\n",
    "mineral_water_A = [4, 5, 6] \n",
    "# ② Metal ion concentration (μg/L) in wastewater (Sample B) / ความเข้มข้นของไอออนโลหะในน้ำเสีย (ตัวอย่าง B)\n",
    "wastewater_B = [10, 0, 5]\n",
    "\n",
    "# Function to calculate mean, variance, and standard deviation / ฟังก์ชันคำนวณค่าเฉลี่ย ความแปรปรวน และส่วนเบี่ยงเบนมาตรฐาน\n",
    "def calculate_statistics(concentrations):\n",
    "    mean = np.mean(concentrations)      # ③ Mean / ค่าเฉลี่ย\n",
    "    variance = np.var(concentrations)   # ④ Variance / ความแปรปรวน\n",
    "    std_dev = np.std(concentrations)    # ⑤ Standard deviation / ส่วนเบี่ยงเบนมาตรฐาน\n",
    "    return mean, variance, std_dev\n",
    "\n",
    "# ⑥ Calculate statistics for metal concentration in drinking water / คำนวณสถิติสำหรับความเข้มข้นของโลหะในน้ำดื่ม\n",
    "mean_A, variance_A, std_dev_A = calculate_statistics(mineral_water_A)\n",
    "print(f\"Sample A (Drinking Water) - Mean: {mean_A:.2f}, Variance: {variance_A:.2f}, Standard Deviation: {std_dev_A:.2f}\")\n",
    "\n",
    "# Calculate statistics for metal concentration in wastewater / คำนวณสถิติสำหรับความเข้มข้นของโลหะในน้ำเสีย\n",
    "mean_B, variance_B, std_dev_B = calculate_statistics(wastewater_B)\n",
    "print(f\"Sample B (Wastewater) - Mean: {mean_B:.2f}, Variance: {variance_B:.2f}, Standard Deviation: {std_dev_B:.2f}\")"
   ]
  },
  {
   "cell_type": "markdown",
   "id": "e75ad799",
   "metadata": {},
   "source": [
    "# <span style=\"color:RoyalBlue; \">3.3 Handling DataFrames / การจัดการ DataFrame</span>\n",
    "## <span style=\"color: DeepPink; \">3.3.1 Creating a DataFrame / การสร้าง DataFrame</span>\n",
    "###### <span style=\"color: gray \">Code 3.2 Creating a DataFrame / โค้ด 3.2 การสร้าง DataFrame</span>\n"
   ]
  },
  {
   "cell_type": "code",
   "execution_count": 2,
   "id": "786fecf9",
   "metadata": {
    "scrolled": true
   },
   "outputs": [
    {
     "data": {
      "text/html": [
       "<div>\n",
       "<style scoped>\n",
       "    .dataframe tbody tr th:only-of-type {\n",
       "        vertical-align: middle;\n",
       "    }\n",
       "\n",
       "    .dataframe tbody tr th {\n",
       "        vertical-align: top;\n",
       "    }\n",
       "\n",
       "    .dataframe thead th {\n",
       "        text-align: right;\n",
       "    }\n",
       "</style>\n",
       "<table border=\"1\" class=\"dataframe\">\n",
       "  <thead>\n",
       "    <tr style=\"text-align: right;\">\n",
       "      <th></th>\n",
       "      <th>Sugarcontent</th>\n",
       "      <th>Acidcontent</th>\n",
       "    </tr>\n",
       "  </thead>\n",
       "  <tbody>\n",
       "    <tr>\n",
       "      <th>apple1</th>\n",
       "      <td>10</td>\n",
       "      <td>0.5</td>\n",
       "    </tr>\n",
       "    <tr>\n",
       "      <th>apple2</th>\n",
       "      <td>12</td>\n",
       "      <td>0.6</td>\n",
       "    </tr>\n",
       "    <tr>\n",
       "      <th>apple3</th>\n",
       "      <td>8</td>\n",
       "      <td>1.0</td>\n",
       "    </tr>\n",
       "    <tr>\n",
       "      <th>apple4</th>\n",
       "      <td>9</td>\n",
       "      <td>0.8</td>\n",
       "    </tr>\n",
       "    <tr>\n",
       "      <th>apple5</th>\n",
       "      <td>10</td>\n",
       "      <td>0.7</td>\n",
       "    </tr>\n",
       "    <tr>\n",
       "      <th>apple6</th>\n",
       "      <td>15</td>\n",
       "      <td>1.0</td>\n",
       "    </tr>\n",
       "  </tbody>\n",
       "</table>\n",
       "</div>"
      ],
      "text/plain": [
       "        Sugarcontent  Acidcontent\n",
       "apple1            10          0.5\n",
       "apple2            12          0.6\n",
       "apple3             8          1.0\n",
       "apple4             9          0.8\n",
       "apple5            10          0.7\n",
       "apple6            15          1.0"
      ]
     },
     "execution_count": 2,
     "metadata": {},
     "output_type": "execute_result"
    }
   ],
   "source": [
    "import pandas as pd\n",
    "excel_path = 'dataChapter03/3_pandas.xlsx'  # ① Specify file path / ระบุเส้นทางของไฟล์\n",
    "# ② Use read_excel to load sheet 'p1', using the first row as index / ใช้ read_excel โหลดชีต 'p1' โดยใช้แถวแรกเป็นดัชนี\n",
    "df_p1 = pd.read_excel(excel_path, sheet_name='p1', index_col=0)\n",
    "df_p1\n"
   ]
  },
  {
   "cell_type": "markdown",
   "id": "af142cc7",
   "metadata": {},
   "source": [
    "###### <span style=\"color: gray \">Code 3.3 Index and Column Name Attributes / โค้ด 3.3 แอททริบิวต์ของดัชนีและชื่อคอลัมน์</span>\n"
   ]
  },
  {
   "cell_type": "code",
   "execution_count": 3,
   "id": "29e07893",
   "metadata": {},
   "outputs": [
    {
     "name": "stdout",
     "output_type": "stream",
     "text": [
      "Index(['Sugarcontent', 'Acidcontent'], dtype='object')\n",
      "Index(['apple1', 'apple2', 'apple3', 'apple4', 'apple5', 'apple6'], dtype='object')\n"
     ]
    }
   ],
   "source": [
    "print(df_p1.columns)  # Column names / ชื่อคอลัมน์\n",
    "print(df_p1.index)    # Index / ดัชนี\n"
   ]
  },
  {
   "cell_type": "markdown",
   "id": "1ebdf999",
   "metadata": {},
   "source": [
    "###### <span style=\"color: gray \">Code 3.4 Data Extraction Using Column Names / โค้ด 3.4 การดึงข้อมูลโดยใช้ชื่อคอลัมน์</span>\n"
   ]
  },
  {
   "cell_type": "code",
   "execution_count": 6,
   "id": "26e17b8c",
   "metadata": {
    "scrolled": true
   },
   "outputs": [
    {
     "data": {
      "text/plain": [
       "apple1    10\n",
       "apple2    12\n",
       "apple3     8\n",
       "apple4     9\n",
       "apple5    10\n",
       "apple6    15\n",
       "Name: Sugarcontent, dtype: int64"
      ]
     },
     "execution_count": 6,
     "metadata": {},
     "output_type": "execute_result"
    }
   ],
   "source": [
    "df_p1[\"Sugarcontent\"]"
   ]
  },
  {
   "cell_type": "markdown",
   "id": "36ef1dfe",
   "metadata": {},
   "source": [
    "## <span style=\"color: DeepPink; \">3.3.2 Data Without an Index / ข้อมูลที่ไม่มีดัชนี</span>\n",
    "###### <span style=\"color: gray \">Code 3.5 Data Without an Index / โค้ด 3.5 ข้อมูลที่ไม่มีดัชนี</span>\n"
   ]
  },
  {
   "cell_type": "code",
   "execution_count": 7,
   "id": "9e27749e",
   "metadata": {
    "scrolled": true
   },
   "outputs": [
    {
     "data": {
      "text/html": [
       "<div>\n",
       "<style scoped>\n",
       "    .dataframe tbody tr th:only-of-type {\n",
       "        vertical-align: middle;\n",
       "    }\n",
       "\n",
       "    .dataframe tbody tr th {\n",
       "        vertical-align: top;\n",
       "    }\n",
       "\n",
       "    .dataframe thead th {\n",
       "        text-align: right;\n",
       "    }\n",
       "</style>\n",
       "<table border=\"1\" class=\"dataframe\">\n",
       "  <thead>\n",
       "    <tr style=\"text-align: right;\">\n",
       "      <th></th>\n",
       "      <th>Sugarcontent</th>\n",
       "      <th>Acidcontent</th>\n",
       "    </tr>\n",
       "  </thead>\n",
       "  <tbody>\n",
       "    <tr>\n",
       "      <th>0</th>\n",
       "      <td>10</td>\n",
       "      <td>0.5</td>\n",
       "    </tr>\n",
       "    <tr>\n",
       "      <th>1</th>\n",
       "      <td>12</td>\n",
       "      <td>0.6</td>\n",
       "    </tr>\n",
       "    <tr>\n",
       "      <th>2</th>\n",
       "      <td>8</td>\n",
       "      <td>1.0</td>\n",
       "    </tr>\n",
       "    <tr>\n",
       "      <th>3</th>\n",
       "      <td>9</td>\n",
       "      <td>0.8</td>\n",
       "    </tr>\n",
       "    <tr>\n",
       "      <th>4</th>\n",
       "      <td>10</td>\n",
       "      <td>0.7</td>\n",
       "    </tr>\n",
       "    <tr>\n",
       "      <th>5</th>\n",
       "      <td>15</td>\n",
       "      <td>1.0</td>\n",
       "    </tr>\n",
       "  </tbody>\n",
       "</table>\n",
       "</div>"
      ],
      "text/plain": [
       "   Sugarcontent  Acidcontent\n",
       "0            10          0.5\n",
       "1            12          0.6\n",
       "2             8          1.0\n",
       "3             9          0.8\n",
       "4            10          0.7\n",
       "5            15          1.0"
      ]
     },
     "execution_count": 7,
     "metadata": {},
     "output_type": "execute_result"
    }
   ],
   "source": [
    "df_p2 = pd.read_excel(excel_path, sheet_name='p2')\n",
    "df_p2"
   ]
  },
  {
   "cell_type": "markdown",
   "id": "0f6712ff",
   "metadata": {},
   "source": [
    "###### <span style=\"color: gray \">Code 3.6 Specifying an Index / โค้ด 3.6 การระบุดัชนี</span>\n"
   ]
  },
  {
   "cell_type": "code",
   "execution_count": 8,
   "id": "d66dc960",
   "metadata": {},
   "outputs": [
    {
     "data": {
      "text/html": [
       "<div>\n",
       "<style scoped>\n",
       "    .dataframe tbody tr th:only-of-type {\n",
       "        vertical-align: middle;\n",
       "    }\n",
       "\n",
       "    .dataframe tbody tr th {\n",
       "        vertical-align: top;\n",
       "    }\n",
       "\n",
       "    .dataframe thead th {\n",
       "        text-align: right;\n",
       "    }\n",
       "</style>\n",
       "<table border=\"1\" class=\"dataframe\">\n",
       "  <thead>\n",
       "    <tr style=\"text-align: right;\">\n",
       "      <th></th>\n",
       "      <th>Sugarcontent</th>\n",
       "      <th>Acidcontent</th>\n",
       "    </tr>\n",
       "  </thead>\n",
       "  <tbody>\n",
       "    <tr>\n",
       "      <th>apple1</th>\n",
       "      <td>10</td>\n",
       "      <td>0.5</td>\n",
       "    </tr>\n",
       "    <tr>\n",
       "      <th>apple2</th>\n",
       "      <td>12</td>\n",
       "      <td>0.6</td>\n",
       "    </tr>\n",
       "    <tr>\n",
       "      <th>apple3</th>\n",
       "      <td>8</td>\n",
       "      <td>1.0</td>\n",
       "    </tr>\n",
       "    <tr>\n",
       "      <th>apple4</th>\n",
       "      <td>9</td>\n",
       "      <td>0.8</td>\n",
       "    </tr>\n",
       "    <tr>\n",
       "      <th>apple5</th>\n",
       "      <td>10</td>\n",
       "      <td>0.7</td>\n",
       "    </tr>\n",
       "    <tr>\n",
       "      <th>apple6</th>\n",
       "      <td>15</td>\n",
       "      <td>1.0</td>\n",
       "    </tr>\n",
       "  </tbody>\n",
       "</table>\n",
       "</div>"
      ],
      "text/plain": [
       "        Sugarcontent  Acidcontent\n",
       "apple1            10          0.5\n",
       "apple2            12          0.6\n",
       "apple3             8          1.0\n",
       "apple4             9          0.8\n",
       "apple5            10          0.7\n",
       "apple6            15          1.0"
      ]
     },
     "execution_count": 8,
     "metadata": {},
     "output_type": "execute_result"
    }
   ],
   "source": [
    "df_p2.index=df_p1.index\n",
    "df_p2"
   ]
  },
  {
   "cell_type": "markdown",
   "id": "cd50d886",
   "metadata": {},
   "source": [
    "## <span style=\"color: DeepPink; \">3.3.3 Data Without Index or Column Names / ข้อมูลที่ไม่มีทั้งดัชนีและชื่อคอลัมน์</span>\n",
    "###### <span style=\"color: gray \">Code 3.7 Data Without Index or Column Names / โค้ด 3.7 ข้อมูลที่ไม่มีทั้งดัชนีและชื่อคอลัมน์</span>\n"
   ]
  },
  {
   "cell_type": "code",
   "execution_count": 9,
   "id": "3ace2899",
   "metadata": {},
   "outputs": [
    {
     "data": {
      "text/html": [
       "<div>\n",
       "<style scoped>\n",
       "    .dataframe tbody tr th:only-of-type {\n",
       "        vertical-align: middle;\n",
       "    }\n",
       "\n",
       "    .dataframe tbody tr th {\n",
       "        vertical-align: top;\n",
       "    }\n",
       "\n",
       "    .dataframe thead th {\n",
       "        text-align: right;\n",
       "    }\n",
       "</style>\n",
       "<table border=\"1\" class=\"dataframe\">\n",
       "  <thead>\n",
       "    <tr style=\"text-align: right;\">\n",
       "      <th></th>\n",
       "      <th>10.0</th>\n",
       "      <th>0.5</th>\n",
       "    </tr>\n",
       "  </thead>\n",
       "  <tbody>\n",
       "    <tr>\n",
       "      <th>0</th>\n",
       "      <td>12</td>\n",
       "      <td>0.6</td>\n",
       "    </tr>\n",
       "    <tr>\n",
       "      <th>1</th>\n",
       "      <td>8</td>\n",
       "      <td>1.0</td>\n",
       "    </tr>\n",
       "    <tr>\n",
       "      <th>2</th>\n",
       "      <td>9</td>\n",
       "      <td>0.8</td>\n",
       "    </tr>\n",
       "    <tr>\n",
       "      <th>3</th>\n",
       "      <td>10</td>\n",
       "      <td>0.7</td>\n",
       "    </tr>\n",
       "    <tr>\n",
       "      <th>4</th>\n",
       "      <td>15</td>\n",
       "      <td>1.0</td>\n",
       "    </tr>\n",
       "  </tbody>\n",
       "</table>\n",
       "</div>"
      ],
      "text/plain": [
       "   10.0  0.5 \n",
       "0    12   0.6\n",
       "1     8   1.0\n",
       "2     9   0.8\n",
       "3    10   0.7\n",
       "4    15   1.0"
      ]
     },
     "execution_count": 9,
     "metadata": {},
     "output_type": "execute_result"
    }
   ],
   "source": [
    "df_p3 = pd.read_excel(excel_path, sheet_name='p3')\n",
    "df_p3"
   ]
  },
  {
   "cell_type": "markdown",
   "id": "5082e87e",
   "metadata": {},
   "source": [
    "###### <span style=\"color: gray \">Code 3.8 Specifying the Header / โค้ด 3.8 การระบุแถวหัวตาราง (header)</span>\n"
   ]
  },
  {
   "cell_type": "code",
   "execution_count": 10,
   "id": "01baa74d",
   "metadata": {},
   "outputs": [
    {
     "name": "stdout",
     "output_type": "stream",
     "text": [
      "    0    1\n",
      "0  10  0.5\n",
      "1  12  0.6\n",
      "2   8  1.0\n",
      "3   9  0.8\n",
      "4  10  0.7\n",
      "5  15  1.0\n"
     ]
    }
   ],
   "source": [
    "df_p3 = pd.read_excel(excel_path, sheet_name='p3',header=None)\n",
    "print(df_p3)"
   ]
  },
  {
   "cell_type": "markdown",
   "id": "ea919376",
   "metadata": {},
   "source": [
    "###### <span style=\"color: gray \">Code 3.9 Specifying Both Index and Column Names / โค้ด 3.9 การระบุดัชนีและชื่อคอลัมน์</span>\n"
   ]
  },
  {
   "cell_type": "code",
   "execution_count": 11,
   "id": "aef922cb",
   "metadata": {},
   "outputs": [
    {
     "data": {
      "text/html": [
       "<div>\n",
       "<style scoped>\n",
       "    .dataframe tbody tr th:only-of-type {\n",
       "        vertical-align: middle;\n",
       "    }\n",
       "\n",
       "    .dataframe tbody tr th {\n",
       "        vertical-align: top;\n",
       "    }\n",
       "\n",
       "    .dataframe thead th {\n",
       "        text-align: right;\n",
       "    }\n",
       "</style>\n",
       "<table border=\"1\" class=\"dataframe\">\n",
       "  <thead>\n",
       "    <tr style=\"text-align: right;\">\n",
       "      <th></th>\n",
       "      <th>Sugarcontent</th>\n",
       "      <th>Acidcontent</th>\n",
       "    </tr>\n",
       "  </thead>\n",
       "  <tbody>\n",
       "    <tr>\n",
       "      <th>apple1</th>\n",
       "      <td>10</td>\n",
       "      <td>0.5</td>\n",
       "    </tr>\n",
       "    <tr>\n",
       "      <th>apple2</th>\n",
       "      <td>12</td>\n",
       "      <td>0.6</td>\n",
       "    </tr>\n",
       "    <tr>\n",
       "      <th>apple3</th>\n",
       "      <td>8</td>\n",
       "      <td>1.0</td>\n",
       "    </tr>\n",
       "    <tr>\n",
       "      <th>apple4</th>\n",
       "      <td>9</td>\n",
       "      <td>0.8</td>\n",
       "    </tr>\n",
       "    <tr>\n",
       "      <th>apple5</th>\n",
       "      <td>10</td>\n",
       "      <td>0.7</td>\n",
       "    </tr>\n",
       "    <tr>\n",
       "      <th>apple6</th>\n",
       "      <td>15</td>\n",
       "      <td>1.0</td>\n",
       "    </tr>\n",
       "  </tbody>\n",
       "</table>\n",
       "</div>"
      ],
      "text/plain": [
       "        Sugarcontent  Acidcontent\n",
       "apple1            10          0.5\n",
       "apple2            12          0.6\n",
       "apple3             8          1.0\n",
       "apple4             9          0.8\n",
       "apple5            10          0.7\n",
       "apple6            15          1.0"
      ]
     },
     "execution_count": 11,
     "metadata": {},
     "output_type": "execute_result"
    }
   ],
   "source": [
    "df_p3.index=df_p1.index\n",
    "df_p3.columns=df_p1.columns\n",
    "df_p3"
   ]
  },
  {
   "cell_type": "markdown",
   "id": "37f71ba0",
   "metadata": {},
   "source": [
    "## <span style=\"color: DeepPink; \">3.3.4 Manipulating DataFrames / การจัดการ DataFrame</span>\n",
    "###### <span style=\"color: gray \">Code 3.10 Boolean Output from Data Queried by Column Name and Condition / โค้ด 3.10 การแสดงค่าบูลีนจากข้อมูลที่ค้นหาด้วยชื่อคอลัมน์และเงื่อนไข</span>\n"
   ]
  },
  {
   "cell_type": "code",
   "execution_count": 12,
   "id": "7a75adba",
   "metadata": {
    "scrolled": true
   },
   "outputs": [
    {
     "data": {
      "text/plain": [
       "apple1    False\n",
       "apple2     True\n",
       "apple3    False\n",
       "apple4    False\n",
       "apple5    False\n",
       "apple6     True\n",
       "Name: Sugarcontent, dtype: bool"
      ]
     },
     "execution_count": 12,
     "metadata": {},
     "output_type": "execute_result"
    }
   ],
   "source": [
    "bool10 = (df_p1[\"Sugarcontent\"] > 10)\n",
    "bool10"
   ]
  },
  {
   "cell_type": "markdown",
   "id": "8921e79e",
   "metadata": {},
   "source": [
    "###### <span style=\"color: gray \">Code 3.11 Data Extraction Using Boolean Values / โค้ด 3.11 การดึงข้อมูลโดยใช้ค่าบูลีน</span>\n"
   ]
  },
  {
   "cell_type": "code",
   "execution_count": 13,
   "id": "f09da722",
   "metadata": {},
   "outputs": [
    {
     "data": {
      "text/html": [
       "<div>\n",
       "<style scoped>\n",
       "    .dataframe tbody tr th:only-of-type {\n",
       "        vertical-align: middle;\n",
       "    }\n",
       "\n",
       "    .dataframe tbody tr th {\n",
       "        vertical-align: top;\n",
       "    }\n",
       "\n",
       "    .dataframe thead th {\n",
       "        text-align: right;\n",
       "    }\n",
       "</style>\n",
       "<table border=\"1\" class=\"dataframe\">\n",
       "  <thead>\n",
       "    <tr style=\"text-align: right;\">\n",
       "      <th></th>\n",
       "      <th>Sugarcontent</th>\n",
       "      <th>Acidcontent</th>\n",
       "    </tr>\n",
       "  </thead>\n",
       "  <tbody>\n",
       "    <tr>\n",
       "      <th>apple2</th>\n",
       "      <td>12</td>\n",
       "      <td>0.6</td>\n",
       "    </tr>\n",
       "    <tr>\n",
       "      <th>apple6</th>\n",
       "      <td>15</td>\n",
       "      <td>1.0</td>\n",
       "    </tr>\n",
       "  </tbody>\n",
       "</table>\n",
       "</div>"
      ],
      "text/plain": [
       "        Sugarcontent  Acidcontent\n",
       "apple2            12          0.6\n",
       "apple6            15          1.0"
      ]
     },
     "execution_count": 13,
     "metadata": {},
     "output_type": "execute_result"
    }
   ],
   "source": [
    "over10 = df_p1[bool10]\n",
    "over10"
   ]
  },
  {
   "cell_type": "markdown",
   "id": "4e2c2650",
   "metadata": {},
   "source": [
    "###### <span style=\"color: gray \">Code 3.12 Checking Data Distribution / โค้ด 3.12 การตรวจสอบการกระจายของข้อมูล</span>\n"
   ]
  },
  {
   "cell_type": "code",
   "execution_count": 14,
   "id": "ae4b6ce8",
   "metadata": {},
   "outputs": [
    {
     "data": {
      "text/plain": [
       "Sugarcontent\n",
       "12    1\n",
       "15    1\n",
       "Name: Sugarcontent, dtype: int64"
      ]
     },
     "execution_count": 14,
     "metadata": {},
     "output_type": "execute_result"
    }
   ],
   "source": [
    "cnt_under10 = over10.groupby([\"Sugarcontent\"])[\"Sugarcontent\"].count()\n",
    "cnt_under10"
   ]
  },
  {
   "cell_type": "markdown",
   "id": "1ba68d58",
   "metadata": {},
   "source": [
    "###### <span style=\"color: gray \">Code 3.13 Checking List of Objects / โค้ด 3.13 การตรวจสอบรายการของอ็อบเจกต์</span>\n"
   ]
  },
  {
   "cell_type": "code",
   "execution_count": 15,
   "id": "d6b0baa7",
   "metadata": {},
   "outputs": [
    {
     "name": "stdout",
     "output_type": "stream",
     "text": [
      "Variable               Type         Data/Info\n",
      "---------------------------------------------\n",
      "bool10                 Series       apple1    False\\napple2  <...>Sugarcontent, dtype: bool\n",
      "calculate_statistics   function     <function calculate_stati<...>cs at 0x000002D91938A980>\n",
      "cnt_under10            Series       Sugarcontent\\n12    1\\n15<...>ugarcontent, dtype: int64\n",
      "df_p1                  DataFrame            Sugarcontent  Aci<...>          15          1.0\n",
      "df_p2                  DataFrame            Sugarcontent  Aci<...>          15          1.0\n",
      "df_p3                  DataFrame            Sugarcontent  Aci<...>          15          1.0\n",
      "excel_path             str          dataChapter03/3_pandas.xlsx\n",
      "mean_A                 float64      5.0\n",
      "mean_B                 float64      5.0\n",
      "mineral_water_A        list         n=3\n",
      "np                     module       <module 'numpy' from 'C:\\<...>ges\\\\numpy\\\\__init__.py'>\n",
      "over10                 DataFrame            Sugarcontent  Aci<...>          15          1.0\n",
      "pd                     module       <module 'pandas' from 'C:<...>es\\\\pandas\\\\__init__.py'>\n",
      "std_dev_A              float64      0.816496580927726\n",
      "std_dev_B              float64      4.08248290463863\n",
      "variance_A             float64      0.6666666666666666\n",
      "variance_B             float64      16.666666666666668\n",
      "wastewater_B           list         n=3\n"
     ]
    }
   ],
   "source": [
    "%whos"
   ]
  },
  {
   "cell_type": "markdown",
   "id": "4b26fdbe",
   "metadata": {},
   "source": [
    "# <span style=\"color:RoyalBlue; \">3.4 Understanding Normal Distribution with pandas / การเข้าใจการแจกแจงแบบปกติโดยใช้ pandas</span>\n",
    "###### <span style=\"color: gray \">Code 3.14 Displaying the First Elements of a DataFrame / โค้ด 3.14 การแสดงสมาชิกแรกของ DataFrame</span>\n"
   ]
  },
  {
   "cell_type": "code",
   "execution_count": 16,
   "id": "4a4fdee4",
   "metadata": {},
   "outputs": [
    {
     "data": {
      "text/html": [
       "<div>\n",
       "<style scoped>\n",
       "    .dataframe tbody tr th:only-of-type {\n",
       "        vertical-align: middle;\n",
       "    }\n",
       "\n",
       "    .dataframe tbody tr th {\n",
       "        vertical-align: top;\n",
       "    }\n",
       "\n",
       "    .dataframe thead th {\n",
       "        text-align: right;\n",
       "    }\n",
       "</style>\n",
       "<table border=\"1\" class=\"dataframe\">\n",
       "  <thead>\n",
       "    <tr style=\"text-align: right;\">\n",
       "      <th></th>\n",
       "      <th>SugarContent</th>\n",
       "      <th>Number</th>\n",
       "    </tr>\n",
       "  </thead>\n",
       "  <tbody>\n",
       "    <tr>\n",
       "      <th>0</th>\n",
       "      <td>8.0</td>\n",
       "      <td>2</td>\n",
       "    </tr>\n",
       "    <tr>\n",
       "      <th>1</th>\n",
       "      <td>8.5</td>\n",
       "      <td>5</td>\n",
       "    </tr>\n",
       "    <tr>\n",
       "      <th>2</th>\n",
       "      <td>9.0</td>\n",
       "      <td>9</td>\n",
       "    </tr>\n",
       "    <tr>\n",
       "      <th>3</th>\n",
       "      <td>9.5</td>\n",
       "      <td>12</td>\n",
       "    </tr>\n",
       "    <tr>\n",
       "      <th>4</th>\n",
       "      <td>10.0</td>\n",
       "      <td>18</td>\n",
       "    </tr>\n",
       "  </tbody>\n",
       "</table>\n",
       "</div>"
      ],
      "text/plain": [
       "   SugarContent  Number\n",
       "0           8.0       2\n",
       "1           8.5       5\n",
       "2           9.0       9\n",
       "3           9.5      12\n",
       "4          10.0      18"
      ]
     },
     "execution_count": 16,
     "metadata": {},
     "output_type": "execute_result"
    }
   ],
   "source": [
    "import pandas as pd\n",
    "excel_path='dataChapter03/3_normal_disrtribution.xlsx' \n",
    "df = pd.read_excel(excel_path)\n",
    "df.head()"
   ]
  },
  {
   "cell_type": "markdown",
   "id": "b8886b84",
   "metadata": {},
   "source": [
    "###### <span style=\"color: gray \">Code 3.15 Data Extraction Using iloc Function / โค้ด 3.15 การดึงข้อมูลโดยใช้ฟังก์ชัน iloc</span>\n"
   ]
  },
  {
   "cell_type": "code",
   "execution_count": 17,
   "id": "ae21baa8",
   "metadata": {},
   "outputs": [
    {
     "name": "stdout",
     "output_type": "stream",
     "text": [
      "SugarContent    8.5\n",
      "Number          5.0\n",
      "Name: 1, dtype: float64\n",
      "____________________\n",
      "   SugarContent  Number\n",
      "3           9.5      12\n",
      "4          10.0      18\n",
      "____________________\n",
      "    SugarContent  Number\n",
      "8           12.0      25\n",
      "9           12.5      15\n",
      "10          13.0      13\n",
      "11          13.5      12\n",
      "12          14.0       8\n",
      "13          14.5       7\n",
      "14          15.0       6\n",
      "____________________\n",
      "0      2\n",
      "1      5\n",
      "2      9\n",
      "3     12\n",
      "4     18\n",
      "5     19\n",
      "6     21\n",
      "7     24\n",
      "8     25\n",
      "9     15\n",
      "10    13\n",
      "11    12\n",
      "12     8\n",
      "13     7\n",
      "14     6\n",
      "15     6\n",
      "16     2\n",
      "Name: Number, dtype: int64\n"
     ]
    }
   ],
   "source": [
    "print(df.iloc[1, :])  # 2nd row, all columns / แถวที่ 2 ทุกคอลัมน์\n",
    "print(\"____________________\")\n",
    "print(df.iloc[3:5, :])  # 4th to 5th row, all columns / แถวที่ 4 ถึง 5 ทุกคอลัมน์\n",
    "print(\"____________________\")\n",
    "print(df.iloc[8:15, :])  # 9th to 15th row, all columns / แถวที่ 9 ถึง 15 ทุกคอลัมน์\n",
    "print(\"____________________\")\n",
    "print(df.iloc[:, 1])  # All rows, 2nd column / ทุกแถว คอลัมน์ที่ 2\n"
   ]
  },
  {
   "cell_type": "markdown",
   "id": "5e149bc2",
   "metadata": {},
   "source": [
    "## <span style=\"color: DeepPink; \">3.4.1 Calculating Mean and Standard Deviation / การคำนวณค่าเฉลี่ยและส่วนเบี่ยงเบนมาตรฐาน</span>\n",
    "###### <span style=\"color: gray \">Code 3.16 Calculating Mean and Standard Deviation of a DataFrame / โค้ด 3.16 การคำนวณค่าเฉลี่ยและส่วนเบี่ยงเบนมาตรฐานของ DataFrame</span>\n"
   ]
  },
  {
   "cell_type": "code",
   "execution_count": 18,
   "id": "4be4a142",
   "metadata": {},
   "outputs": [
    {
     "name": "stdout",
     "output_type": "stream",
     "text": [
      "Average score: 11.70, Standard deviation: 1.79\n"
     ]
    }
   ],
   "source": [
    "total_apples = df.iloc[:, 1].sum()  # ①\n",
    "average_score = (df.iloc[:, 0] * df.iloc[:, 1]).sum() / total_apples  # ②\n",
    "variance = ((df.iloc[:, 0] - average_score) ** 2 * df.iloc[:, 1]).sum() / total_apples  # ③\n",
    "standard_deviation = variance ** 0.5  # ④\n",
    "print(f\"Average score: {average_score:.2f}, Standard deviation: {standard_deviation:.2f}\")  # / คะแนนเฉลี่ย: {average_score:.2f}, ส่วนเบี่ยงเบนมาตรฐาน: {standard_deviation:.2f}\n"
   ]
  },
  {
   "cell_type": "markdown",
   "id": "6b230851",
   "metadata": {},
   "source": [
    "## <span style=\"color: DeepPink; \">3.4.2 Creating Histograms and Normal Distribution Graphs / การสร้างฮิสโตแกรมและกราฟการแจกแจงแบบปกติ</span>\n",
    "###### <span style=\"color: gray \">Code 3.17 Creating Histograms and Normal Distribution / โค้ด 3.17 การสร้างฮิสโตแกรมและการแจกแจงแบบปกติ</span>\n"
   ]
  },
  {
   "cell_type": "code",
   "execution_count": 19,
   "id": "8802165f",
   "metadata": {},
   "outputs": [
    {
     "data": {
      "image/png": "[encoded data removed]",
      "text/plain": [
       "<Figure size 1000x600 with 1 Axes>"
      ]
     },
     "metadata": {},
     "output_type": "display_data"
    }
   ],
   "source": [
    "import numpy as np\n",
    "import matplotlib.pyplot as plt\n",
    "import scipy.stats as stats\n",
    "\n",
    "# Create the graph / สร้างกราฟ\n",
    "plt.figure(figsize=(10, 6))\n",
    "# ① Bar graph of sugar content and count / กราฟแท่งของปริมาณน้ำตาลและจำนวน\n",
    "plt.bar(df.iloc[:, 0], df.iloc[:, 1], label='Sugar Content Distribution', color='pink')\n",
    "# ② Plot of normal distribution / การพล็อตกราฟการแจกแจงแบบปกติ\n",
    "x = np.linspace(average_score - 4*standard_deviation, average_score + 4*standard_deviation, 100)\n",
    "plt.plot(x, stats.norm.pdf(x, average_score, standard_deviation) * total_apples * -1, label='Normal Distribution')\n",
    "# ③ Lines for mean and standard deviation / เส้นสำหรับค่าเฉลี่ยและส่วนเบี่ยงเบนมาตรฐาน\n",
    "plt.axvline(x=average_score, color='red', linestyle='--', label='Average')\n",
    "plt.axvline(x=average_score + standard_deviation, color='green', linestyle='--', label='Standard Deviation')\n",
    "plt.axvline(x=average_score - standard_deviation, color='green', linestyle='--')\n",
    "# ④ Graph title and labels / ชื่อกราฟและป้ายกำกับ\n",
    "plt.title('Sugar Distribution and Normal Distribution')\n",
    "plt.xlabel('Sugar content')\n",
    "plt.ylabel('Number of apples')\n",
    "# ⑤ Display legend / แสดงคำอธิบายกราฟ\n",
    "plt.legend()\n",
    "# ⑥ Show graph / แสดงกราฟ\n",
    "plt.grid(True)\n",
    "plt.show()\n"
   ]
  },
  {
   "cell_type": "markdown",
   "id": "00357c43",
   "metadata": {},
   "source": [
    "## <span style=\"color: DeepPink; \">3.4.3 Calculating Statistical Metrics Using Z-scores / การคำนวณตัวชี้วัดทางสถิติด้วยคะแนน Z</span>\n",
    "###### <span style=\"color: gray \">Code 3.18 Calculating Statistical Metrics Using Z-scores / โค้ด 3.18 การคำนวณตัวชี้วัดทางสถิติด้วยคะแนน Z</span>\n"
   ]
  },
  {
   "cell_type": "code",
   "execution_count": 20,
   "id": "3188a82c",
   "metadata": {},
   "outputs": [
    {
     "name": "stdout",
     "output_type": "stream",
     "text": [
      "The Z-score for this sugar content is 1.29.\n",
      "The estimated rank from Z-score is 21.\n",
      "The percentage from the top is 10.41%.\n",
      "The actual rank ranges from 22 to 29.\n"
     ]
    }
   ],
   "source": [
    "def calculate_statistics(score, df, average_score, standard_deviation, total_apples):\n",
    "    \"\"\"\n",
    "    Parameters:\n",
    "    score (int or float): The sugar content score to calculate.\n",
    "    df (pandas DataFrame): DataFrame containing sugar scores and their counts.\n",
    "    average_score (float): Mean sugar content score.\n",
    "    standard_deviation (float): Standard deviation of sugar content scores.\n",
    "    total_apples (int): Total number of apples.\n",
    "    Returns:\n",
    "    None (results are printed).\n",
    "    \"\"\"\n",
    "    # ① Calculate Z-score / คำนวณคะแนน Z\n",
    "    z_score = (score - average_score) / standard_deviation\n",
    "    # ② Calculate approximate rank (estimated from Z-score) / คำนวณอันดับโดยประมาณ (จากคะแนน Z)\n",
    "    approximate_rank = total_apples * (1 - stats.norm.cdf(z_score)) + 1\n",
    "    # ③ Percentage from the top / ร้อยละจากอันดับบนสุด\n",
    "    percentage_from_top = (approximate_rank / total_apples) * 100\n",
    "    # ④ Cumulative count of apples with scores greater than score / ผลรวมสะสมของแอปเปิ้ลที่มีคะแนนมากกว่า score\n",
    "    cumulative_apples_above = df[df.iloc[:, 0] > score].iloc[:, 1].sum()\n",
    "    # ⑤ Number of apples with the exact score / จำนวนแอปเปิ้ลที่มีคะแนนเท่ากับ score\n",
    "    apples_with_score = df[df.iloc[:, 0] == score].iloc[:, 1].sum() if score in df.iloc[:, 0].values else 0\n",
    "    # ⑥ Calculate actual rank range / คำนวณช่วงอันดับที่แท้จริง\n",
    "    rank_range_lower = cumulative_apples_above + 1\n",
    "    rank_range_upper = rank_range_lower + apples_with_score - 1\n",
    "    print(f\"The Z-score for this sugar content is {z_score:.2f}.\")  # / คะแนน Z สำหรับน้ำตาลนี้คือ\n",
    "    print(f\"The estimated rank from Z-score is {approximate_rank:.0f}.\")  # / อันดับที่ประมาณจากคะแนน Z คือ\n",
    "    print(f\"The percentage from the top is {percentage_from_top:.2f}%.\")  # / ร้อยละจากอันดับบนสุดคือ\n",
    "    print(f\"The actual rank ranges from {rank_range_lower} to {rank_range_upper}.\")  # / อันดับจริงอยู่ระหว่าง\n",
    "        \n",
    "\n",
    "# Run the function with a test score (e.g., 14) / รันฟังก์ชันด้วยคะแนนทดสอบ (เช่น 14)\n",
    "test_score = 14\n",
    "calculate_statistics(test_score, df, average_score, standard_deviation, total_apples)\n"
   ]
  },
  {
   "cell_type": "markdown",
   "id": "4a9fe8d7",
   "metadata": {},
   "source": [
    "# <span style=\"color:RoyalBlue; \">3.7 Interval Estimation / การประมาณช่วง</span>\n",
    "## <span style=\"color: DeepPink; \">3.7.2 How to Calculate Confidence Intervals When Population Variance is Unknown / วิธีการหาช่วงความเชื่อมั่นเมื่อความแปรปรวนของประชากรไม่ทราบ</span>\n",
    "###### <span style=\"color: gray \">Code 3.19 Shape of t-distribution with Varying Degrees of Freedom / โค้ด 3.19 รูปร่างของการแจกแจง t เมื่อมีระดับอิสระต่างกัน</span>\n"
   ]
  },
  {
   "cell_type": "code",
   "execution_count": 21,
   "id": "4069da89",
   "metadata": {},
   "outputs": [
    {
     "data": {
      "image/png": "[encoded data removed]",
      "text/plain": [
       "<Figure size 1000x500 with 1 Axes>"
      ]
     },
     "metadata": {},
     "output_type": "display_data"
    }
   ],
   "source": [
    "import numpy as np\n",
    "import scipy.stats as stats\n",
    "import matplotlib.pyplot as plt\n",
    "\n",
    "# Parameter settings / การตั้งค่าพารามิเตอร์\n",
    "mu = 0\n",
    "sigma = 1\n",
    "df_values = [1, 2, 5, 10]  # List of degrees of freedom for t-distribution / รายการระดับอิสระของการแจกแจง t\n",
    "\n",
    "# ① Generate values for x-axis / สร้างค่าบนแกน x\n",
    "x = np.linspace(mu - 4*sigma, mu + 4*sigma, 1000)\n",
    "\n",
    "# ② Probability density function of normal distribution / ฟังก์ชันความหนาแน่นความน่าจะเป็นของการแจกแจงแบบปกติ\n",
    "normal_pdf = stats.norm.pdf(x, mu, sigma)\n",
    "\n",
    "# ③ Plotting / การสร้างกราฟ\n",
    "plt.figure(figsize=(10, 5))\n",
    "plt.plot(x, normal_pdf, label='Normal Distribution', linewidth=2)\n",
    "\n",
    "# ④ Plot t-distributions for each degree of freedom / การพล็อตการแจกแจง t สำหรับแต่ละระดับอิสระ\n",
    "for df in df_values:\n",
    "    t_pdf = stats.t.pdf((x - mu) / sigma, df) / sigma\n",
    "    plt.plot(x, t_pdf, label=f't-Distribution (df={df})', linewidth=2)\n",
    "\n",
    "plt.title('Normal Distribution vs t-Distributions')\n",
    "plt.xlabel('Value')\n",
    "plt.ylabel('Probability Density')\n",
    "plt.legend()\n",
    "plt.grid(True)\n",
    "plt.show()\n"
   ]
  },
  {
   "cell_type": "markdown",
   "id": "c076c521",
   "metadata": {},
   "source": [
    "###### <span style=\"color: gray \">Code 3.20 t-values with Varying Degrees of Freedom and Confidence Levels / โค้ด 3.20 ค่าของ t เมื่อระดับอิสระและระดับความเชื่อมั่นเปลี่ยนแปลง</span>\n"
   ]
  },
  {
   "cell_type": "code",
   "execution_count": 22,
   "id": "bba82569",
   "metadata": {},
   "outputs": [
    {
     "data": {
      "text/html": [
       "<div>\n",
       "<style scoped>\n",
       "    .dataframe tbody tr th:only-of-type {\n",
       "        vertical-align: middle;\n",
       "    }\n",
       "\n",
       "    .dataframe tbody tr th {\n",
       "        vertical-align: top;\n",
       "    }\n",
       "\n",
       "    .dataframe thead th {\n",
       "        text-align: right;\n",
       "    }\n",
       "</style>\n",
       "<table border=\"1\" class=\"dataframe\">\n",
       "  <thead>\n",
       "    <tr style=\"text-align: right;\">\n",
       "      <th>Confidence Level</th>\n",
       "      <th>95%</th>\n",
       "      <th>99%</th>\n",
       "      <th>99%</th>\n",
       "    </tr>\n",
       "    <tr>\n",
       "      <th>Degrees of Freedom</th>\n",
       "      <th></th>\n",
       "      <th></th>\n",
       "      <th></th>\n",
       "    </tr>\n",
       "  </thead>\n",
       "  <tbody>\n",
       "    <tr>\n",
       "      <th>1</th>\n",
       "      <td>12.71</td>\n",
       "      <td>63.66</td>\n",
       "      <td>636.62</td>\n",
       "    </tr>\n",
       "    <tr>\n",
       "      <th>2</th>\n",
       "      <td>4.3</td>\n",
       "      <td>9.92</td>\n",
       "      <td>31.6</td>\n",
       "    </tr>\n",
       "    <tr>\n",
       "      <th>3</th>\n",
       "      <td>3.18</td>\n",
       "      <td>5.84</td>\n",
       "      <td>12.92</td>\n",
       "    </tr>\n",
       "    <tr>\n",
       "      <th>4</th>\n",
       "      <td>2.78</td>\n",
       "      <td>4.6</td>\n",
       "      <td>8.61</td>\n",
       "    </tr>\n",
       "    <tr>\n",
       "      <th>5</th>\n",
       "      <td>2.57</td>\n",
       "      <td>4.03</td>\n",
       "      <td>6.87</td>\n",
       "    </tr>\n",
       "    <tr>\n",
       "      <th>10</th>\n",
       "      <td>2.23</td>\n",
       "      <td>3.17</td>\n",
       "      <td>4.59</td>\n",
       "    </tr>\n",
       "    <tr>\n",
       "      <th>20</th>\n",
       "      <td>2.09</td>\n",
       "      <td>2.85</td>\n",
       "      <td>3.85</td>\n",
       "    </tr>\n",
       "    <tr>\n",
       "      <th>30</th>\n",
       "      <td>2.04</td>\n",
       "      <td>2.75</td>\n",
       "      <td>3.65</td>\n",
       "    </tr>\n",
       "    <tr>\n",
       "      <th>100</th>\n",
       "      <td>1.98</td>\n",
       "      <td>2.63</td>\n",
       "      <td>3.39</td>\n",
       "    </tr>\n",
       "  </tbody>\n",
       "</table>\n",
       "</div>"
      ],
      "text/plain": [
       "Confidence Level      95%    99%     99%\n",
       "Degrees of Freedom                      \n",
       "1                   12.71  63.66  636.62\n",
       "2                     4.3   9.92    31.6\n",
       "3                    3.18   5.84   12.92\n",
       "4                    2.78    4.6    8.61\n",
       "5                    2.57   4.03    6.87\n",
       "10                   2.23   3.17    4.59\n",
       "20                   2.09   2.85    3.85\n",
       "30                   2.04   2.75    3.65\n",
       "100                  1.98   2.63    3.39"
      ]
     },
     "execution_count": 22,
     "metadata": {},
     "output_type": "execute_result"
    }
   ],
   "source": [
    "import pandas as pd\n",
    "import scipy.stats as stats\n",
    "\n",
    "# List of degrees of freedom and confidence levels / รายการระดับอิสระและระดับความเชื่อมั่น\n",
    "degrees_of_freedom = [1, 2, 3, 4, 5, 10, 20, 30, 100]\n",
    "confidence_levels = [0.95, 0.99, 0.999]\n",
    "\n",
    "# Create t-distribution table / สร้างตารางการแจกแจง t\n",
    "t_distribution_table = pd.DataFrame(index=degrees_of_freedom, columns=confidence_levels)\n",
    "\n",
    "# Calculate and store t-values / คำนวณและเก็บค่าของ t\n",
    "for df in degrees_of_freedom:\n",
    "    for cl in confidence_levels:\n",
    "        # Calculate t-value (two-tailed, so multiply one-sided probability by 2) / คำนวณค่า t (สองด้าน ดังนั้นจึงคูณความน่าจะเป็นด้านเดียวด้วย 2)\n",
    "        t_value = stats.t.ppf((1 + cl) / 2, df)\n",
    "        t_distribution_table.at[df, cl] = round(t_value, 2)\n",
    "\n",
    "t_distribution_table.columns = [f'{int(cl * 100)}%' for cl in confidence_levels]\n",
    "t_distribution_table.index.name = 'Degrees of Freedom'\n",
    "t_distribution_table.columns.name = 'Confidence Level'\n",
    "t_distribution_table\n"
   ]
  },
  {
   "cell_type": "markdown",
   "id": "adcbf2f0",
   "metadata": {},
   "source": [
    "## <span style=\"color: DeepPink; \">3.7.3 Estimating Confidence Intervals of a Population / การประมาณช่วงความเชื่อมั่นของประชากร</span>\n",
    "###### <span style=\"color: gray \">Code 3.21 Estimating Confidence Intervals of a Population / โค้ด 3.21 การประมาณช่วงความเชื่อมั่นของประชากร</span>\n"
   ]
  },
  {
   "cell_type": "code",
   "execution_count": 24,
   "id": "b825b4f7",
   "metadata": {},
   "outputs": [
    {
     "name": "stdout",
     "output_type": "stream",
     "text": [
      "Point estimate of mean: 34.26. Standard deviation: 10.10.\n",
      "Confidence intervals for the mean:\n",
      "95% confidence (function): 27.04 to 41.49\n",
      "95% confidence (manual): 27.04 to 41.49\n",
      "99% confidence (function): 23.88 to 44.65\n",
      "99% confidence (manual): 23.88 to 44.65\n",
      "99.9% confidence (function): 18.99 to 49.54\n",
      "99.9% confidence (manual): 18.99 to 49.54\n"
     ]
    }
   ],
   "source": [
    "import numpy as np\n",
    "import scipy.stats as stats\n",
    "\n",
    "# Parameter settings / การตั้งค่าพารามิเตอร์\n",
    "mu = 30  # Population mean / ค่าเฉลี่ยของประชากร\n",
    "sigma = 10  # Population standard deviation / ส่วนเบี่ยงเบนมาตรฐานของประชากร\n",
    "sample_size = 10  # Sample size / ขนาดตัวอย่าง\n",
    "\n",
    "# ① Generate sample data / สร้างข้อมูลตัวอย่าง\n",
    "sample_data = np.random.normal(mu, sigma, sample_size)\n",
    "\n",
    "# ② Estimate population mean and variance from sample / ประมาณค่าค่าเฉลี่ยและความแปรปรวนของประชากรจากตัวอย่าง\n",
    "estimated_mean = np.mean(sample_data)\n",
    "estimated_variance = np.var(sample_data, ddof=1)  # Unbiased variance / ความแปรปรวนแบบไม่ลำเอียง\n",
    "estimated_std = np.sqrt(estimated_variance)\n",
    "estimated_se = estimated_std / np.sqrt(sample_size)  # Standard error / ค่าความคลาดเคลื่อนมาตรฐาน\n",
    "\n",
    "# ③ Calculate t-values / คำนวณค่า t\n",
    "tvalue95 = stats.t.ppf(1 - 0.05/2, sample_size - 1)\n",
    "tvalue99 = stats.t.ppf(1 - 0.01/2, sample_size - 1)\n",
    "tvalue999 = stats.t.ppf(1 - 0.001/2, sample_size - 1)\n",
    "\n",
    "# ④ Calculate confidence intervals manually / คำนวณช่วงความเชื่อมั่นด้วยตนเอง\n",
    "confidence_interval_95_own = [estimated_mean - estimated_se * tvalue95, estimated_mean + estimated_se * tvalue95]\n",
    "confidence_interval_99_own = [estimated_mean - estimated_se * tvalue99, estimated_mean + estimated_se * tvalue99]\n",
    "confidence_interval_999_own = [estimated_mean - estimated_se * tvalue999, estimated_mean + estimated_se * tvalue999]\n",
    "\n",
    "# ⑤ Calculate confidence intervals using function / คำนวณช่วงความเชื่อมั่นโดยใช้ฟังก์ชัน\n",
    "confidence_interval_95 = stats.t.interval(0.95, df=sample_size-1, loc=estimated_mean, scale=stats.sem(sample_data))\n",
    "confidence_interval_99 = stats.t.interval(0.99, df=sample_size-1, loc=estimated_mean, scale=stats.sem(sample_data))\n",
    "confidence_interval_999 = stats.t.interval(0.999, df=sample_size-1, loc=estimated_mean, scale=stats.sem(sample_data))\n",
    "\n",
    "# ⑥ Display results / แสดงผลลัพธ์\n",
    "print(f\"Point estimate of mean: {estimated_mean:.2f}. Standard deviation: {estimated_std:.2f}.\")  # / ค่าเฉลี่ยประมาณ: {estimated_mean:.2f} ส่วนเบี่ยงเบนมาตรฐาน: {estimated_std:.2f}\n",
    "print(\"Confidence intervals for the mean:\")\n",
    "print(f\"95% confidence (function): {confidence_interval_95[0]:.2f} to {confidence_interval_95[1]:.2f}\")\n",
    "print(f\"95% confidence (manual): {confidence_interval_95_own[0]:.2f} to {confidence_interval_95_own[1]:.2f}\")\n",
    "print(f\"99% confidence (function): {confidence_interval_99[0]:.2f} to {confidence_interval_99[1]:.2f}\")\n",
    "print(f\"99% confidence (manual): {confidence_interval_99_own[0]:.2f} to {confidence_interval_99_own[1]:.2f}\")\n",
    "print(f\"99.9% confidence (function): {confidence_interval_999[0]:.2f} to {confidence_interval_999[1]:.2f}\")\n",
    "print(f\"99.9% confidence (manual): {confidence_interval_999_own[0]:.2f} to {confidence_interval_999_own[1]:.2f}\")\n"
   ]
  },
  {
   "cell_type": "markdown",
   "id": "99ed6031",
   "metadata": {},
   "source": [
    "# <span style=\"color: RoyalBlue; \">3.8 Paired t-Test / การทดสอบ t แบบมีการจับคู่</span>\n",
    "###### <span style=\"color: gray \">Code 3.22 Confidence Interval of the Difference / โค้ด 3.22 ช่วงความเชื่อมั่นของความแตกต่าง</span>\n"
   ]
  },
  {
   "cell_type": "code",
   "execution_count": 27,
   "id": "9c33a9c2",
   "metadata": {
    "scrolled": false
   },
   "outputs": [
    {
     "name": "stdout",
     "output_type": "stream",
     "text": [
      "The 95% confidence interval of the difference is from 6.02 to 10.31.\n",
      "The 99% confidence interval of the difference is from 4.81 to 11.53.\n",
      "The 99.9% confidence interval of the difference is from 2.44 to 13.89.\n",
      "The t-statistic from the t-test is 9.80.\n",
      "The p-value from the t-test is 0.00019.\n"
     ]
    }
   ],
   "source": [
    "import pandas as pd\n",
    "import numpy as np\n",
    "import scipy.stats as stats\n",
    "\n",
    "# ① Read Excel file / อ่านไฟล์ Excel\n",
    "excel_path = 'dataChapter03/3_tkentei.xlsx'\n",
    "df = pd.read_excel(excel_path, sheet_name='case1')\n",
    "\n",
    "# ② Extract data / ดึงข้อมูล\n",
    "diff_data = df['difference']  # Differences / ความแตกต่าง\n",
    "sugar_scores = df['Sugarcontent']  # Sugar scores / คะแนนน้ำตาล\n",
    "acid_scores = df['Acidcontent']    # Acidity scores / คะแนนความเป็นกรด\n",
    "\n",
    "# ③ Calculate confidence interval of the difference / คำนวณช่วงความเชื่อมั่นของความแตกต่าง\n",
    "mean_diff = np.mean(diff_data)\n",
    "std_err_diff = stats.sem(diff_data)\n",
    "df_diff = len(diff_data) - 1\n",
    "\n",
    "# 95% confidence interval\n",
    "ci_95 = stats.t.interval(0.95, df_diff, loc=mean_diff, scale=std_err_diff)\n",
    "# 99% confidence interval\n",
    "ci_99 = stats.t.interval(0.99, df_diff, loc=mean_diff, scale=std_err_diff)\n",
    "# 99.9% confidence interval\n",
    "ci_999 = stats.t.interval(0.999, df_diff, loc=mean_diff, scale=std_err_diff)\n",
    "\n",
    "# ④ Paired t-test / การทดสอบ t แบบจับคู่\n",
    "t_statistic, p_value = stats.ttest_rel(sugar_scores, acid_scores)\n",
    "\n",
    "print(f\"The 95% confidence interval of the difference is from {ci_95[0]:.2f} to {ci_95[1]:.2f}.\")\n",
    "print(f\"The 99% confidence interval of the difference is from {ci_99[0]:.2f} to {ci_99[1]:.2f}.\")\n",
    "print(f\"The 99.9% confidence interval of the difference is from {ci_999[0]:.2f} to {ci_999[1]:.2f}.\")\n",
    "print(f\"The t-statistic from the t-test is {t_statistic:.2f}.\")\n",
    "print(f\"The p-value from the t-test is {p_value:.5f}.\")\n"
   ]
  },
  {
   "cell_type": "markdown",
   "id": "16407c7e",
   "metadata": {},
   "source": [
    "# <span style=\"color:RoyalBlue; \">3.9 Unpaired t-Test / การทดสอบ t แบบไม่จับคู่</span>\n",
    "###### <span style=\"color: gray \">Code 3.23 Confidence Interval of the Difference When Unpaired / โค้ด 3.23 ช่วงความเชื่อมั่นของความแตกต่างในกรณีไม่จับคู่</span>\n"
   ]
  },
  {
   "cell_type": "code",
   "execution_count": 29,
   "id": "aba343a3",
   "metadata": {},
   "outputs": [
    {
     "name": "stdout",
     "output_type": "stream",
     "text": [
      "t-value using function: 12.49\n",
      "t-value calculated manually: 12.49\n",
      "p-value using function: 0.00000020\n"
     ]
    }
   ],
   "source": [
    "import pandas as pd\n",
    "from scipy import stats\n",
    "\n",
    "# Read the file / อ่านไฟล์\n",
    "file_path = 'dataChapter03/3_tkentei.xlsx'\n",
    "df_case2 = pd.read_excel(file_path, sheet_name='case2')\n",
    "\n",
    "# Get sugar and acid scores / ดึงข้อมูลคะแนนน้ำตาลและความเป็นกรด\n",
    "sugar_scores = df_case2['Sugarcontent']\n",
    "acid_scores = df_case2['Acidcontent']  # 修正: acid_scores のスペル\n",
    "\n",
    "# ① Perform unpaired t-test using stats.ttest_ind assuming equal population variances / ทำการทดสอบ t แบบไม่จับคู่โดยใช้ฟังก์ชัน stats.ttest_ind โดยสมมติว่าความแปรปรวนของประชากรเท่ากัน\n",
    "t_stat, p_value = stats.ttest_ind(sugar_scores, acid_scores)\n",
    "\n",
    "# ② Calculate t-value manually / คำนวณค่า t ด้วยตนเอง\n",
    "mean_difference = sugar_scores.mean() - acid_scores.mean()  # Calculate mean difference / คำนวณค่าความต่างเฉลี่ย\n",
    "nsugar = len(sugar_scores)  # Sample size / ขนาดตัวอย่าง\n",
    "nacid = len(acid_scores)    # Sample size / ขนาดตัวอย่าง\n",
    "\n",
    "# Calculate pooled variance / คำนวณความแปรปรวนรวม\n",
    "pooled_variance = (sugar_scores.var(ddof=0) * nsugar + acid_scores.var(ddof=0) * nacid) / (nsugar + nacid - 2)\n",
    "\n",
    "# Calculate standard error of difference / คำนวณค่าความคลาดเคลื่อนมาตรฐานของความแตกต่าง\n",
    "std_error_difference = (pooled_variance * (1/nsugar + 1/nacid)) ** 0.5\n",
    "\n",
    "# Calculate t-value manually / คำนวณค่า t ด้วยตนเอง\n",
    "t_value_manual = mean_difference / std_error_difference\n",
    "\n",
    "# Output results / แสดงผลลัพธ์\n",
    "print(f\"t-value using function: {t_stat:.2f}\")\n",
    "print(f\"t-value calculated manually: {t_value_manual:.2f}\")\n",
    "print(f\"p-value using function: {p_value:.8f}\")\n"
   ]
  },
  {
   "cell_type": "markdown",
   "id": "46409c79",
   "metadata": {},
   "source": [
    "###### <span style=\"color: gray \">Code 3.24 Welch’s Method / โค้ด 3.24 วิธีของ Welch</span>\n"
   ]
  },
  {
   "cell_type": "code",
   "execution_count": 30,
   "id": "b84574a8",
   "metadata": {},
   "outputs": [],
   "source": [
    "t_stat, p_value = stats.ttest_ind(sugar_scores, acid_scores, equal_var=True)  # Assume equal variances / สมมติความแปรปรวนเท่ากัน\n",
    "# Not assuming equal variances ⇒ Welch’s method / ไม่สมมติความแปรปรวนเท่ากัน ⇒ วิธีของ Welch\n",
    "t_stat, p_value = stats.ttest_ind(sugar_scores, acid_scores, equal_var=False)"
   ]
  },
  {
   "cell_type": "markdown",
   "id": "102ad6b7",
   "metadata": {},
   "source": [
    "# <span style=\"color:RoyalBlue; \">3.10 Correlation Coefficient and p-value / สหสัมพันธ์และค่า p</span>\n",
    "###### <span style=\"color: gray \">Code 3.25 Calculation of Correlation Coefficient / โค้ด 3.25 การคำนวณค่าสหสัมพันธ์</span>\n"
   ]
  },
  {
   "cell_type": "code",
   "execution_count": 31,
   "id": "5d2efcc7",
   "metadata": {},
   "outputs": [
    {
     "name": "stdout",
     "output_type": "stream",
     "text": [
      "[[ 9.69529086 19.10154608]\n",
      " [19.10154608 39.62842111]]\n",
      "Correlation coefficient from covariance/std dev: 0.9745\n",
      "Correlation coefficient from function: 0.9745\n"
     ]
    },
    {
     "data": {
      "image/png": "[encoded data removed]",
      "text/plain": [
       "<Figure size 640x480 with 1 Axes>"
      ]
     },
     "metadata": {},
     "output_type": "display_data"
    }
   ],
   "source": [
    "import numpy as np\n",
    "from scipy.stats import pearsonr\n",
    "import matplotlib.pyplot as plt\n",
    "\n",
    "# ① Set random seed for reproducibility (if needed) / ตั้งค่า seed สำหรับสุ่มเพื่อความสามารถในการทำซ้ำ\n",
    "np.random.seed(0)\n",
    "\n",
    "# Generate x data (20 data points from 0 to 10) / สร้างข้อมูล x (20 จุดข้อมูลในช่วง 0 ถึง 10)\n",
    "x = np.linspace(0, 10, 20)\n",
    "\n",
    "# ② Generate y data (y = 2x + random noise) / สร้างข้อมูล y (y = 2x + สัญญาณรบกวนสุ่ม)\n",
    "y = 2 * x + np.random.rand(20) * 5\n",
    "\n",
    "# ③ Method 1: Calculate correlation coefficient using covariance / standard deviation / วิธีที่ 1: คำนวณค่าสหสัมพันธ์โดยใช้ covariance / ส่วนเบี่ยงเบนมาตรฐาน\n",
    "cov_matrix = np.cov(x, y)  # Covariance matrix (cov_matrix[0, 1] is covariance between x and y) / เมทริกซ์ covariance (cov_matrix[0, 1] คือ covariance ระหว่าง x กับ y)\n",
    "std_x = np.std(x, ddof=1)  # Standard deviation of x / ส่วนเบี่ยงเบนมาตรฐานของ x\n",
    "std_y = np.std(y, ddof=1)  # Standard deviation of y / ส่วนเบี่ยงเบนมาตรฐานของ y\n",
    "correlation = cov_matrix[0, 1] / (std_x * std_y)  # Calculate correlation coefficient / คำนวณค่าสหสัมพันธ์\n",
    "print(cov_matrix)\n",
    "print(f\"Correlation coefficient from covariance/std dev: {correlation:.4f}\")\n",
    "\n",
    "# ④ Method 2: Calculate correlation coefficient using scipy function / วิธีที่ 2: คำนวณค่าสหสัมพันธ์โดยใช้ฟังก์ชันของ scipy\n",
    "corr, _ = pearsonr(x, y)\n",
    "print(f\"Correlation coefficient from function: {corr:.4f}\")\n",
    "\n",
    "plt.scatter(x, y)\n",
    "plt.title('Scatter Plot of x vs y')\n",
    "plt.xlabel('x')\n",
    "plt.ylabel('y')\n",
    "plt.grid(True)\n",
    "plt.show()\n"
   ]
  },
  {
   "cell_type": "markdown",
   "id": "cea9364e",
   "metadata": {},
   "source": [
    "###### <span style=\"color: gray \">Code 3.26 p-value in t-test of Correlation Coefficient / โค้ด 3.26 ค่า p ในการทดสอบ t ของค่าสหสัมพันธ์</span>\n"
   ]
  },
  {
   "cell_type": "code",
   "execution_count": 32,
   "id": "aeb21af0",
   "metadata": {},
   "outputs": [
    {
     "name": "stdout",
     "output_type": "stream",
     "text": [
      "p value: 3.938646810654261e-13\n"
     ]
    }
   ],
   "source": [
    "corr, p_value = pearsonr(x, y)\n",
    "print(\"p value:\", p_value)"
   ]
  }
 ],
 "metadata": {
  "kernelspec": {
   "display_name": "Python 3 (ipykernel)",
   "language": "python",
   "name": "python3"
  },
  "language_info": {
   "codemirror_mode": {
    "name": "ipython",
    "version": 3
   },
   "file_extension": ".py",
   "mimetype": "text/x-python",
   "name": "python",
   "nbconvert_exporter": "python",
   "pygments_lexer": "ipython3",
   "version": "3.11.7"
  }
 },
 "nbformat": 4,
 "nbformat_minor": 5
}
